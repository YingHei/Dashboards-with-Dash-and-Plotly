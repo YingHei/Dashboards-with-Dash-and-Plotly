{
 "cells": [
  {
   "cell_type": "markdown",
   "id": "98dd0427",
   "metadata": {},
   "source": [
    "## Building Dashboards with Dash and Plotly"
   ]
  },
  {
   "cell_type": "markdown",
   "id": "2474d6af",
   "metadata": {},
   "source": [
    "**Resources** <br>\n",
    "Gallery: https://dash.gallery/Portal/ <br>\n",
    "Source code: https://github.com/plotly/dash-sample-apps/ <br>\n",
    "\n",
    "**Ploty:** <br>\n",
    "    https://plotly.com/python/ <br>\n",
    "    https://plotly.com/python-api-reference/"
   ]
  },
  {
   "cell_type": "markdown",
   "id": "51e11291",
   "metadata": {},
   "source": [
    "**path**\n",
    "\n",
    "/Users/heifacewong/Desktop/DataScience/DataCamp/Building Dashboards with Dash and Plotly/scripts <br>"
   ]
  },
  {
   "cell_type": "markdown",
   "id": "9739d471",
   "metadata": {},
   "source": [
    "**command** <br>\n",
    "\n",
    "    cd Desktop/DataScience/DataCamp/Building\\ Dashboards\\ with\\ Dash\\ and\\ Plotly/scripts <br>\n",
    "    python app.py"
   ]
  },
  {
   "cell_type": "markdown",
   "id": "dc69252c",
   "metadata": {},
   "source": [
    "**dash app address**\n",
    "\n",
    "    127.0.0.1:8050"
   ]
  },
  {
   "cell_type": "raw",
   "id": "f0ce48ea",
   "metadata": {},
   "source": [
    "# Print whole DataFrame\n",
    "\n",
    "with pd.option_context('display.max_rows', None,\n",
    "                       'display.max_columns', None,\n",
    "                       'display.precision', 3,\n",
    "                       ):\n",
    "print(df)"
   ]
  },
  {
   "cell_type": "code",
   "execution_count": 4,
   "id": "9d7e40a6",
   "metadata": {},
   "outputs": [],
   "source": [
    "csv_filepath = 'ecom_sales.csv'"
   ]
  },
  {
   "cell_type": "markdown",
   "id": "b1e7d417",
   "metadata": {},
   "source": [
    "## Chapter 1: From Plotly to Dash"
   ]
  },
  {
   "cell_type": "markdown",
   "id": "4fec669f",
   "metadata": {},
   "source": [
    "### Line graph of sales by country"
   ]
  },
  {
   "cell_type": "code",
   "execution_count": 5,
   "id": "3c8e192d",
   "metadata": {},
   "outputs": [
    {
     "data": {
      "application/vnd.plotly.v1+json": {
       "config": {
        "plotlyServerURL": "https://plot.ly"
       },
       "data": [
        {
         "hovertemplate": "Country=Australia<br>Year-Month=%{x}<br>Total Sales ($)=%{y}<extra></extra>",
         "legendgroup": "Australia",
         "line": {
          "color": "#636efa",
          "dash": "solid"
         },
         "marker": {
          "symbol": "circle"
         },
         "mode": "lines",
         "name": "Australia",
         "orientation": "v",
         "showlegend": true,
         "type": "scatter",
         "x": [
          "2010-12",
          "2011-01",
          "2011-02",
          "2011-03",
          "2011-05",
          "2011-06",
          "2011-07",
          "2011-08",
          "2011-09",
          "2011-10",
          "2011-11"
         ],
         "xaxis": "x",
         "y": [
          147.5,
          471.29999999999995,
          511.94,
          1360.7,
          589.38,
          748,
          477.26,
          558.1800000000001,
          1007.97,
          231.9,
          245.76000000000002
         ],
         "yaxis": "y"
        },
        {
         "hovertemplate": "Country=France<br>Year-Month=%{x}<br>Total Sales ($)=%{y}<extra></extra>",
         "legendgroup": "France",
         "line": {
          "color": "#EF553B",
          "dash": "solid"
         },
         "marker": {
          "symbol": "circle"
         },
         "mode": "lines",
         "name": "France",
         "orientation": "v",
         "showlegend": true,
         "type": "scatter",
         "x": [
          "2010-12",
          "2011-01",
          "2011-02",
          "2011-03",
          "2011-04",
          "2011-05",
          "2011-06",
          "2011-07",
          "2011-08",
          "2011-09",
          "2011-10",
          "2011-11",
          "2011-12"
         ],
         "xaxis": "x",
         "y": [
          128.32999999999998,
          576.29,
          213.6,
          508.46999999999997,
          30.3,
          392.82,
          514,
          244.86,
          839.3399999999999,
          379.58,
          577.14,
          1108.31,
          125.12
         ],
         "yaxis": "y"
        },
        {
         "hovertemplate": "Country=Germany<br>Year-Month=%{x}<br>Total Sales ($)=%{y}<extra></extra>",
         "legendgroup": "Germany",
         "line": {
          "color": "#00cc96",
          "dash": "solid"
         },
         "marker": {
          "symbol": "circle"
         },
         "mode": "lines",
         "name": "Germany",
         "orientation": "v",
         "showlegend": true,
         "type": "scatter",
         "x": [
          "2010-12",
          "2011-01",
          "2011-02",
          "2011-03",
          "2011-04",
          "2011-05",
          "2011-06",
          "2011-07",
          "2011-08",
          "2011-09",
          "2011-10",
          "2011-11",
          "2011-12"
         ],
         "xaxis": "x",
         "y": [
          227.7,
          279.09999999999997,
          420.49999999999994,
          50.55,
          98,
          753.3,
          138.38,
          221.99,
          137.55,
          217.26,
          167.46,
          356.84,
          85.08
         ],
         "yaxis": "y"
        },
        {
         "hovertemplate": "Country=United Kingdom<br>Year-Month=%{x}<br>Total Sales ($)=%{y}<extra></extra>",
         "legendgroup": "United Kingdom",
         "line": {
          "color": "#ab63fa",
          "dash": "solid"
         },
         "marker": {
          "symbol": "circle"
         },
         "mode": "lines",
         "name": "United Kingdom",
         "orientation": "v",
         "showlegend": true,
         "type": "scatter",
         "x": [
          "2010-12",
          "2011-01",
          "2011-02",
          "2011-03",
          "2011-04",
          "2011-05",
          "2011-06",
          "2011-07",
          "2011-08",
          "2011-09",
          "2011-10",
          "2011-11",
          "2011-12"
         ],
         "xaxis": "x",
         "y": [
          291.81,
          157.76,
          612.72,
          404.46999999999997,
          387.43,
          388.99,
          463.51,
          618.12,
          213.22,
          734.94,
          278.45,
          842.83,
          188.68
         ],
         "yaxis": "y"
        },
        {
         "hovertemplate": "Country=Hong Kong<br>Year-Month=%{x}<br>Total Sales ($)=%{y}<extra></extra>",
         "legendgroup": "Hong Kong",
         "line": {
          "color": "#FFA15A",
          "dash": "solid"
         },
         "marker": {
          "symbol": "circle"
         },
         "mode": "lines",
         "name": "Hong Kong",
         "orientation": "v",
         "showlegend": true,
         "type": "scatter",
         "x": [
          "2011-01",
          "2011-04",
          "2011-05",
          "2011-06",
          "2011-08",
          "2011-10"
         ],
         "xaxis": "x",
         "y": [
          595.8000000000001,
          73.1,
          269.85,
          15,
          578.9,
          127.59
         ],
         "yaxis": "y"
        }
       ],
       "layout": {
        "legend": {
         "title": {
          "text": "Country"
         },
         "tracegroupgap": 0
        },
        "template": {
         "data": {
          "bar": [
           {
            "error_x": {
             "color": "#2a3f5f"
            },
            "error_y": {
             "color": "#2a3f5f"
            },
            "marker": {
             "line": {
              "color": "#E5ECF6",
              "width": 0.5
             },
             "pattern": {
              "fillmode": "overlay",
              "size": 10,
              "solidity": 0.2
             }
            },
            "type": "bar"
           }
          ],
          "barpolar": [
           {
            "marker": {
             "line": {
              "color": "#E5ECF6",
              "width": 0.5
             },
             "pattern": {
              "fillmode": "overlay",
              "size": 10,
              "solidity": 0.2
             }
            },
            "type": "barpolar"
           }
          ],
          "carpet": [
           {
            "aaxis": {
             "endlinecolor": "#2a3f5f",
             "gridcolor": "white",
             "linecolor": "white",
             "minorgridcolor": "white",
             "startlinecolor": "#2a3f5f"
            },
            "baxis": {
             "endlinecolor": "#2a3f5f",
             "gridcolor": "white",
             "linecolor": "white",
             "minorgridcolor": "white",
             "startlinecolor": "#2a3f5f"
            },
            "type": "carpet"
           }
          ],
          "choropleth": [
           {
            "colorbar": {
             "outlinewidth": 0,
             "ticks": ""
            },
            "type": "choropleth"
           }
          ],
          "contour": [
           {
            "colorbar": {
             "outlinewidth": 0,
             "ticks": ""
            },
            "colorscale": [
             [
              0,
              "#0d0887"
             ],
             [
              0.1111111111111111,
              "#46039f"
             ],
             [
              0.2222222222222222,
              "#7201a8"
             ],
             [
              0.3333333333333333,
              "#9c179e"
             ],
             [
              0.4444444444444444,
              "#bd3786"
             ],
             [
              0.5555555555555556,
              "#d8576b"
             ],
             [
              0.6666666666666666,
              "#ed7953"
             ],
             [
              0.7777777777777778,
              "#fb9f3a"
             ],
             [
              0.8888888888888888,
              "#fdca26"
             ],
             [
              1,
              "#f0f921"
             ]
            ],
            "type": "contour"
           }
          ],
          "contourcarpet": [
           {
            "colorbar": {
             "outlinewidth": 0,
             "ticks": ""
            },
            "type": "contourcarpet"
           }
          ],
          "heatmap": [
           {
            "colorbar": {
             "outlinewidth": 0,
             "ticks": ""
            },
            "colorscale": [
             [
              0,
              "#0d0887"
             ],
             [
              0.1111111111111111,
              "#46039f"
             ],
             [
              0.2222222222222222,
              "#7201a8"
             ],
             [
              0.3333333333333333,
              "#9c179e"
             ],
             [
              0.4444444444444444,
              "#bd3786"
             ],
             [
              0.5555555555555556,
              "#d8576b"
             ],
             [
              0.6666666666666666,
              "#ed7953"
             ],
             [
              0.7777777777777778,
              "#fb9f3a"
             ],
             [
              0.8888888888888888,
              "#fdca26"
             ],
             [
              1,
              "#f0f921"
             ]
            ],
            "type": "heatmap"
           }
          ],
          "heatmapgl": [
           {
            "colorbar": {
             "outlinewidth": 0,
             "ticks": ""
            },
            "colorscale": [
             [
              0,
              "#0d0887"
             ],
             [
              0.1111111111111111,
              "#46039f"
             ],
             [
              0.2222222222222222,
              "#7201a8"
             ],
             [
              0.3333333333333333,
              "#9c179e"
             ],
             [
              0.4444444444444444,
              "#bd3786"
             ],
             [
              0.5555555555555556,
              "#d8576b"
             ],
             [
              0.6666666666666666,
              "#ed7953"
             ],
             [
              0.7777777777777778,
              "#fb9f3a"
             ],
             [
              0.8888888888888888,
              "#fdca26"
             ],
             [
              1,
              "#f0f921"
             ]
            ],
            "type": "heatmapgl"
           }
          ],
          "histogram": [
           {
            "marker": {
             "pattern": {
              "fillmode": "overlay",
              "size": 10,
              "solidity": 0.2
             }
            },
            "type": "histogram"
           }
          ],
          "histogram2d": [
           {
            "colorbar": {
             "outlinewidth": 0,
             "ticks": ""
            },
            "colorscale": [
             [
              0,
              "#0d0887"
             ],
             [
              0.1111111111111111,
              "#46039f"
             ],
             [
              0.2222222222222222,
              "#7201a8"
             ],
             [
              0.3333333333333333,
              "#9c179e"
             ],
             [
              0.4444444444444444,
              "#bd3786"
             ],
             [
              0.5555555555555556,
              "#d8576b"
             ],
             [
              0.6666666666666666,
              "#ed7953"
             ],
             [
              0.7777777777777778,
              "#fb9f3a"
             ],
             [
              0.8888888888888888,
              "#fdca26"
             ],
             [
              1,
              "#f0f921"
             ]
            ],
            "type": "histogram2d"
           }
          ],
          "histogram2dcontour": [
           {
            "colorbar": {
             "outlinewidth": 0,
             "ticks": ""
            },
            "colorscale": [
             [
              0,
              "#0d0887"
             ],
             [
              0.1111111111111111,
              "#46039f"
             ],
             [
              0.2222222222222222,
              "#7201a8"
             ],
             [
              0.3333333333333333,
              "#9c179e"
             ],
             [
              0.4444444444444444,
              "#bd3786"
             ],
             [
              0.5555555555555556,
              "#d8576b"
             ],
             [
              0.6666666666666666,
              "#ed7953"
             ],
             [
              0.7777777777777778,
              "#fb9f3a"
             ],
             [
              0.8888888888888888,
              "#fdca26"
             ],
             [
              1,
              "#f0f921"
             ]
            ],
            "type": "histogram2dcontour"
           }
          ],
          "mesh3d": [
           {
            "colorbar": {
             "outlinewidth": 0,
             "ticks": ""
            },
            "type": "mesh3d"
           }
          ],
          "parcoords": [
           {
            "line": {
             "colorbar": {
              "outlinewidth": 0,
              "ticks": ""
             }
            },
            "type": "parcoords"
           }
          ],
          "pie": [
           {
            "automargin": true,
            "type": "pie"
           }
          ],
          "scatter": [
           {
            "marker": {
             "colorbar": {
              "outlinewidth": 0,
              "ticks": ""
             }
            },
            "type": "scatter"
           }
          ],
          "scatter3d": [
           {
            "line": {
             "colorbar": {
              "outlinewidth": 0,
              "ticks": ""
             }
            },
            "marker": {
             "colorbar": {
              "outlinewidth": 0,
              "ticks": ""
             }
            },
            "type": "scatter3d"
           }
          ],
          "scattercarpet": [
           {
            "marker": {
             "colorbar": {
              "outlinewidth": 0,
              "ticks": ""
             }
            },
            "type": "scattercarpet"
           }
          ],
          "scattergeo": [
           {
            "marker": {
             "colorbar": {
              "outlinewidth": 0,
              "ticks": ""
             }
            },
            "type": "scattergeo"
           }
          ],
          "scattergl": [
           {
            "marker": {
             "colorbar": {
              "outlinewidth": 0,
              "ticks": ""
             }
            },
            "type": "scattergl"
           }
          ],
          "scattermapbox": [
           {
            "marker": {
             "colorbar": {
              "outlinewidth": 0,
              "ticks": ""
             }
            },
            "type": "scattermapbox"
           }
          ],
          "scatterpolar": [
           {
            "marker": {
             "colorbar": {
              "outlinewidth": 0,
              "ticks": ""
             }
            },
            "type": "scatterpolar"
           }
          ],
          "scatterpolargl": [
           {
            "marker": {
             "colorbar": {
              "outlinewidth": 0,
              "ticks": ""
             }
            },
            "type": "scatterpolargl"
           }
          ],
          "scatterternary": [
           {
            "marker": {
             "colorbar": {
              "outlinewidth": 0,
              "ticks": ""
             }
            },
            "type": "scatterternary"
           }
          ],
          "surface": [
           {
            "colorbar": {
             "outlinewidth": 0,
             "ticks": ""
            },
            "colorscale": [
             [
              0,
              "#0d0887"
             ],
             [
              0.1111111111111111,
              "#46039f"
             ],
             [
              0.2222222222222222,
              "#7201a8"
             ],
             [
              0.3333333333333333,
              "#9c179e"
             ],
             [
              0.4444444444444444,
              "#bd3786"
             ],
             [
              0.5555555555555556,
              "#d8576b"
             ],
             [
              0.6666666666666666,
              "#ed7953"
             ],
             [
              0.7777777777777778,
              "#fb9f3a"
             ],
             [
              0.8888888888888888,
              "#fdca26"
             ],
             [
              1,
              "#f0f921"
             ]
            ],
            "type": "surface"
           }
          ],
          "table": [
           {
            "cells": {
             "fill": {
              "color": "#EBF0F8"
             },
             "line": {
              "color": "white"
             }
            },
            "header": {
             "fill": {
              "color": "#C8D4E3"
             },
             "line": {
              "color": "white"
             }
            },
            "type": "table"
           }
          ]
         },
         "layout": {
          "annotationdefaults": {
           "arrowcolor": "#2a3f5f",
           "arrowhead": 0,
           "arrowwidth": 1
          },
          "autotypenumbers": "strict",
          "coloraxis": {
           "colorbar": {
            "outlinewidth": 0,
            "ticks": ""
           }
          },
          "colorscale": {
           "diverging": [
            [
             0,
             "#8e0152"
            ],
            [
             0.1,
             "#c51b7d"
            ],
            [
             0.2,
             "#de77ae"
            ],
            [
             0.3,
             "#f1b6da"
            ],
            [
             0.4,
             "#fde0ef"
            ],
            [
             0.5,
             "#f7f7f7"
            ],
            [
             0.6,
             "#e6f5d0"
            ],
            [
             0.7,
             "#b8e186"
            ],
            [
             0.8,
             "#7fbc41"
            ],
            [
             0.9,
             "#4d9221"
            ],
            [
             1,
             "#276419"
            ]
           ],
           "sequential": [
            [
             0,
             "#0d0887"
            ],
            [
             0.1111111111111111,
             "#46039f"
            ],
            [
             0.2222222222222222,
             "#7201a8"
            ],
            [
             0.3333333333333333,
             "#9c179e"
            ],
            [
             0.4444444444444444,
             "#bd3786"
            ],
            [
             0.5555555555555556,
             "#d8576b"
            ],
            [
             0.6666666666666666,
             "#ed7953"
            ],
            [
             0.7777777777777778,
             "#fb9f3a"
            ],
            [
             0.8888888888888888,
             "#fdca26"
            ],
            [
             1,
             "#f0f921"
            ]
           ],
           "sequentialminus": [
            [
             0,
             "#0d0887"
            ],
            [
             0.1111111111111111,
             "#46039f"
            ],
            [
             0.2222222222222222,
             "#7201a8"
            ],
            [
             0.3333333333333333,
             "#9c179e"
            ],
            [
             0.4444444444444444,
             "#bd3786"
            ],
            [
             0.5555555555555556,
             "#d8576b"
            ],
            [
             0.6666666666666666,
             "#ed7953"
            ],
            [
             0.7777777777777778,
             "#fb9f3a"
            ],
            [
             0.8888888888888888,
             "#fdca26"
            ],
            [
             1,
             "#f0f921"
            ]
           ]
          },
          "colorway": [
           "#636efa",
           "#EF553B",
           "#00cc96",
           "#ab63fa",
           "#FFA15A",
           "#19d3f3",
           "#FF6692",
           "#B6E880",
           "#FF97FF",
           "#FECB52"
          ],
          "font": {
           "color": "#2a3f5f"
          },
          "geo": {
           "bgcolor": "white",
           "lakecolor": "white",
           "landcolor": "#E5ECF6",
           "showlakes": true,
           "showland": true,
           "subunitcolor": "white"
          },
          "hoverlabel": {
           "align": "left"
          },
          "hovermode": "closest",
          "mapbox": {
           "style": "light"
          },
          "paper_bgcolor": "white",
          "plot_bgcolor": "#E5ECF6",
          "polar": {
           "angularaxis": {
            "gridcolor": "white",
            "linecolor": "white",
            "ticks": ""
           },
           "bgcolor": "#E5ECF6",
           "radialaxis": {
            "gridcolor": "white",
            "linecolor": "white",
            "ticks": ""
           }
          },
          "scene": {
           "xaxis": {
            "backgroundcolor": "#E5ECF6",
            "gridcolor": "white",
            "gridwidth": 2,
            "linecolor": "white",
            "showbackground": true,
            "ticks": "",
            "zerolinecolor": "white"
           },
           "yaxis": {
            "backgroundcolor": "#E5ECF6",
            "gridcolor": "white",
            "gridwidth": 2,
            "linecolor": "white",
            "showbackground": true,
            "ticks": "",
            "zerolinecolor": "white"
           },
           "zaxis": {
            "backgroundcolor": "#E5ECF6",
            "gridcolor": "white",
            "gridwidth": 2,
            "linecolor": "white",
            "showbackground": true,
            "ticks": "",
            "zerolinecolor": "white"
           }
          },
          "shapedefaults": {
           "line": {
            "color": "#2a3f5f"
           }
          },
          "ternary": {
           "aaxis": {
            "gridcolor": "white",
            "linecolor": "white",
            "ticks": ""
           },
           "baxis": {
            "gridcolor": "white",
            "linecolor": "white",
            "ticks": ""
           },
           "bgcolor": "#E5ECF6",
           "caxis": {
            "gridcolor": "white",
            "linecolor": "white",
            "ticks": ""
           }
          },
          "title": {
           "x": 0.05
          },
          "xaxis": {
           "automargin": true,
           "gridcolor": "white",
           "linecolor": "white",
           "ticks": "",
           "title": {
            "standoff": 15
           },
           "zerolinecolor": "white",
           "zerolinewidth": 2
          },
          "yaxis": {
           "automargin": true,
           "gridcolor": "white",
           "linecolor": "white",
           "ticks": "",
           "title": {
            "standoff": 15
           },
           "zerolinecolor": "white",
           "zerolinewidth": 2
          }
         }
        },
        "title": {
         "text": "Total Sales by Country and Month"
        },
        "xaxis": {
         "anchor": "y",
         "domain": [
          0,
          1
         ],
         "title": {
          "text": "Year-Month"
         }
        },
        "yaxis": {
         "anchor": "x",
         "domain": [
          0,
          1
         ],
         "title": {
          "text": "Total Sales ($)"
         }
        }
       }
      },
      "text/html": [
       "<div>                            <div id=\"d7f93a9d-2847-4cad-a424-52ce39badfb5\" class=\"plotly-graph-div\" style=\"height:525px; width:100%;\"></div>            <script type=\"text/javascript\">                require([\"plotly\"], function(Plotly) {                    window.PLOTLYENV=window.PLOTLYENV || {};                                    if (document.getElementById(\"d7f93a9d-2847-4cad-a424-52ce39badfb5\")) {                    Plotly.newPlot(                        \"d7f93a9d-2847-4cad-a424-52ce39badfb5\",                        [{\"hovertemplate\":\"Country=Australia<br>Year-Month=%{x}<br>Total Sales ($)=%{y}<extra></extra>\",\"legendgroup\":\"Australia\",\"line\":{\"color\":\"#636efa\",\"dash\":\"solid\"},\"marker\":{\"symbol\":\"circle\"},\"mode\":\"lines\",\"name\":\"Australia\",\"orientation\":\"v\",\"showlegend\":true,\"x\":[\"2010-12\",\"2011-01\",\"2011-02\",\"2011-03\",\"2011-05\",\"2011-06\",\"2011-07\",\"2011-08\",\"2011-09\",\"2011-10\",\"2011-11\"],\"xaxis\":\"x\",\"y\":[147.5,471.29999999999995,511.94,1360.7,589.38,748.0,477.26,558.1800000000001,1007.97,231.9,245.76000000000002],\"yaxis\":\"y\",\"type\":\"scatter\"},{\"hovertemplate\":\"Country=France<br>Year-Month=%{x}<br>Total Sales ($)=%{y}<extra></extra>\",\"legendgroup\":\"France\",\"line\":{\"color\":\"#EF553B\",\"dash\":\"solid\"},\"marker\":{\"symbol\":\"circle\"},\"mode\":\"lines\",\"name\":\"France\",\"orientation\":\"v\",\"showlegend\":true,\"x\":[\"2010-12\",\"2011-01\",\"2011-02\",\"2011-03\",\"2011-04\",\"2011-05\",\"2011-06\",\"2011-07\",\"2011-08\",\"2011-09\",\"2011-10\",\"2011-11\",\"2011-12\"],\"xaxis\":\"x\",\"y\":[128.32999999999998,576.29,213.6,508.46999999999997,30.3,392.82,514.0,244.86,839.3399999999999,379.58,577.14,1108.31,125.12],\"yaxis\":\"y\",\"type\":\"scatter\"},{\"hovertemplate\":\"Country=Germany<br>Year-Month=%{x}<br>Total Sales ($)=%{y}<extra></extra>\",\"legendgroup\":\"Germany\",\"line\":{\"color\":\"#00cc96\",\"dash\":\"solid\"},\"marker\":{\"symbol\":\"circle\"},\"mode\":\"lines\",\"name\":\"Germany\",\"orientation\":\"v\",\"showlegend\":true,\"x\":[\"2010-12\",\"2011-01\",\"2011-02\",\"2011-03\",\"2011-04\",\"2011-05\",\"2011-06\",\"2011-07\",\"2011-08\",\"2011-09\",\"2011-10\",\"2011-11\",\"2011-12\"],\"xaxis\":\"x\",\"y\":[227.7,279.09999999999997,420.49999999999994,50.55,98.0,753.3,138.38,221.99,137.55,217.26,167.46,356.84,85.08],\"yaxis\":\"y\",\"type\":\"scatter\"},{\"hovertemplate\":\"Country=United Kingdom<br>Year-Month=%{x}<br>Total Sales ($)=%{y}<extra></extra>\",\"legendgroup\":\"United Kingdom\",\"line\":{\"color\":\"#ab63fa\",\"dash\":\"solid\"},\"marker\":{\"symbol\":\"circle\"},\"mode\":\"lines\",\"name\":\"United Kingdom\",\"orientation\":\"v\",\"showlegend\":true,\"x\":[\"2010-12\",\"2011-01\",\"2011-02\",\"2011-03\",\"2011-04\",\"2011-05\",\"2011-06\",\"2011-07\",\"2011-08\",\"2011-09\",\"2011-10\",\"2011-11\",\"2011-12\"],\"xaxis\":\"x\",\"y\":[291.81,157.76,612.72,404.46999999999997,387.43,388.99,463.51,618.12,213.22,734.94,278.45,842.83,188.68],\"yaxis\":\"y\",\"type\":\"scatter\"},{\"hovertemplate\":\"Country=Hong Kong<br>Year-Month=%{x}<br>Total Sales ($)=%{y}<extra></extra>\",\"legendgroup\":\"Hong Kong\",\"line\":{\"color\":\"#FFA15A\",\"dash\":\"solid\"},\"marker\":{\"symbol\":\"circle\"},\"mode\":\"lines\",\"name\":\"Hong Kong\",\"orientation\":\"v\",\"showlegend\":true,\"x\":[\"2011-01\",\"2011-04\",\"2011-05\",\"2011-06\",\"2011-08\",\"2011-10\"],\"xaxis\":\"x\",\"y\":[595.8000000000001,73.1,269.85,15.0,578.9,127.59],\"yaxis\":\"y\",\"type\":\"scatter\"}],                        {\"template\":{\"data\":{\"bar\":[{\"error_x\":{\"color\":\"#2a3f5f\"},\"error_y\":{\"color\":\"#2a3f5f\"},\"marker\":{\"line\":{\"color\":\"#E5ECF6\",\"width\":0.5},\"pattern\":{\"fillmode\":\"overlay\",\"size\":10,\"solidity\":0.2}},\"type\":\"bar\"}],\"barpolar\":[{\"marker\":{\"line\":{\"color\":\"#E5ECF6\",\"width\":0.5},\"pattern\":{\"fillmode\":\"overlay\",\"size\":10,\"solidity\":0.2}},\"type\":\"barpolar\"}],\"carpet\":[{\"aaxis\":{\"endlinecolor\":\"#2a3f5f\",\"gridcolor\":\"white\",\"linecolor\":\"white\",\"minorgridcolor\":\"white\",\"startlinecolor\":\"#2a3f5f\"},\"baxis\":{\"endlinecolor\":\"#2a3f5f\",\"gridcolor\":\"white\",\"linecolor\":\"white\",\"minorgridcolor\":\"white\",\"startlinecolor\":\"#2a3f5f\"},\"type\":\"carpet\"}],\"choropleth\":[{\"colorbar\":{\"outlinewidth\":0,\"ticks\":\"\"},\"type\":\"choropleth\"}],\"contour\":[{\"colorbar\":{\"outlinewidth\":0,\"ticks\":\"\"},\"colorscale\":[[0.0,\"#0d0887\"],[0.1111111111111111,\"#46039f\"],[0.2222222222222222,\"#7201a8\"],[0.3333333333333333,\"#9c179e\"],[0.4444444444444444,\"#bd3786\"],[0.5555555555555556,\"#d8576b\"],[0.6666666666666666,\"#ed7953\"],[0.7777777777777778,\"#fb9f3a\"],[0.8888888888888888,\"#fdca26\"],[1.0,\"#f0f921\"]],\"type\":\"contour\"}],\"contourcarpet\":[{\"colorbar\":{\"outlinewidth\":0,\"ticks\":\"\"},\"type\":\"contourcarpet\"}],\"heatmap\":[{\"colorbar\":{\"outlinewidth\":0,\"ticks\":\"\"},\"colorscale\":[[0.0,\"#0d0887\"],[0.1111111111111111,\"#46039f\"],[0.2222222222222222,\"#7201a8\"],[0.3333333333333333,\"#9c179e\"],[0.4444444444444444,\"#bd3786\"],[0.5555555555555556,\"#d8576b\"],[0.6666666666666666,\"#ed7953\"],[0.7777777777777778,\"#fb9f3a\"],[0.8888888888888888,\"#fdca26\"],[1.0,\"#f0f921\"]],\"type\":\"heatmap\"}],\"heatmapgl\":[{\"colorbar\":{\"outlinewidth\":0,\"ticks\":\"\"},\"colorscale\":[[0.0,\"#0d0887\"],[0.1111111111111111,\"#46039f\"],[0.2222222222222222,\"#7201a8\"],[0.3333333333333333,\"#9c179e\"],[0.4444444444444444,\"#bd3786\"],[0.5555555555555556,\"#d8576b\"],[0.6666666666666666,\"#ed7953\"],[0.7777777777777778,\"#fb9f3a\"],[0.8888888888888888,\"#fdca26\"],[1.0,\"#f0f921\"]],\"type\":\"heatmapgl\"}],\"histogram\":[{\"marker\":{\"pattern\":{\"fillmode\":\"overlay\",\"size\":10,\"solidity\":0.2}},\"type\":\"histogram\"}],\"histogram2d\":[{\"colorbar\":{\"outlinewidth\":0,\"ticks\":\"\"},\"colorscale\":[[0.0,\"#0d0887\"],[0.1111111111111111,\"#46039f\"],[0.2222222222222222,\"#7201a8\"],[0.3333333333333333,\"#9c179e\"],[0.4444444444444444,\"#bd3786\"],[0.5555555555555556,\"#d8576b\"],[0.6666666666666666,\"#ed7953\"],[0.7777777777777778,\"#fb9f3a\"],[0.8888888888888888,\"#fdca26\"],[1.0,\"#f0f921\"]],\"type\":\"histogram2d\"}],\"histogram2dcontour\":[{\"colorbar\":{\"outlinewidth\":0,\"ticks\":\"\"},\"colorscale\":[[0.0,\"#0d0887\"],[0.1111111111111111,\"#46039f\"],[0.2222222222222222,\"#7201a8\"],[0.3333333333333333,\"#9c179e\"],[0.4444444444444444,\"#bd3786\"],[0.5555555555555556,\"#d8576b\"],[0.6666666666666666,\"#ed7953\"],[0.7777777777777778,\"#fb9f3a\"],[0.8888888888888888,\"#fdca26\"],[1.0,\"#f0f921\"]],\"type\":\"histogram2dcontour\"}],\"mesh3d\":[{\"colorbar\":{\"outlinewidth\":0,\"ticks\":\"\"},\"type\":\"mesh3d\"}],\"parcoords\":[{\"line\":{\"colorbar\":{\"outlinewidth\":0,\"ticks\":\"\"}},\"type\":\"parcoords\"}],\"pie\":[{\"automargin\":true,\"type\":\"pie\"}],\"scatter\":[{\"marker\":{\"colorbar\":{\"outlinewidth\":0,\"ticks\":\"\"}},\"type\":\"scatter\"}],\"scatter3d\":[{\"line\":{\"colorbar\":{\"outlinewidth\":0,\"ticks\":\"\"}},\"marker\":{\"colorbar\":{\"outlinewidth\":0,\"ticks\":\"\"}},\"type\":\"scatter3d\"}],\"scattercarpet\":[{\"marker\":{\"colorbar\":{\"outlinewidth\":0,\"ticks\":\"\"}},\"type\":\"scattercarpet\"}],\"scattergeo\":[{\"marker\":{\"colorbar\":{\"outlinewidth\":0,\"ticks\":\"\"}},\"type\":\"scattergeo\"}],\"scattergl\":[{\"marker\":{\"colorbar\":{\"outlinewidth\":0,\"ticks\":\"\"}},\"type\":\"scattergl\"}],\"scattermapbox\":[{\"marker\":{\"colorbar\":{\"outlinewidth\":0,\"ticks\":\"\"}},\"type\":\"scattermapbox\"}],\"scatterpolar\":[{\"marker\":{\"colorbar\":{\"outlinewidth\":0,\"ticks\":\"\"}},\"type\":\"scatterpolar\"}],\"scatterpolargl\":[{\"marker\":{\"colorbar\":{\"outlinewidth\":0,\"ticks\":\"\"}},\"type\":\"scatterpolargl\"}],\"scatterternary\":[{\"marker\":{\"colorbar\":{\"outlinewidth\":0,\"ticks\":\"\"}},\"type\":\"scatterternary\"}],\"surface\":[{\"colorbar\":{\"outlinewidth\":0,\"ticks\":\"\"},\"colorscale\":[[0.0,\"#0d0887\"],[0.1111111111111111,\"#46039f\"],[0.2222222222222222,\"#7201a8\"],[0.3333333333333333,\"#9c179e\"],[0.4444444444444444,\"#bd3786\"],[0.5555555555555556,\"#d8576b\"],[0.6666666666666666,\"#ed7953\"],[0.7777777777777778,\"#fb9f3a\"],[0.8888888888888888,\"#fdca26\"],[1.0,\"#f0f921\"]],\"type\":\"surface\"}],\"table\":[{\"cells\":{\"fill\":{\"color\":\"#EBF0F8\"},\"line\":{\"color\":\"white\"}},\"header\":{\"fill\":{\"color\":\"#C8D4E3\"},\"line\":{\"color\":\"white\"}},\"type\":\"table\"}]},\"layout\":{\"annotationdefaults\":{\"arrowcolor\":\"#2a3f5f\",\"arrowhead\":0,\"arrowwidth\":1},\"autotypenumbers\":\"strict\",\"coloraxis\":{\"colorbar\":{\"outlinewidth\":0,\"ticks\":\"\"}},\"colorscale\":{\"diverging\":[[0,\"#8e0152\"],[0.1,\"#c51b7d\"],[0.2,\"#de77ae\"],[0.3,\"#f1b6da\"],[0.4,\"#fde0ef\"],[0.5,\"#f7f7f7\"],[0.6,\"#e6f5d0\"],[0.7,\"#b8e186\"],[0.8,\"#7fbc41\"],[0.9,\"#4d9221\"],[1,\"#276419\"]],\"sequential\":[[0.0,\"#0d0887\"],[0.1111111111111111,\"#46039f\"],[0.2222222222222222,\"#7201a8\"],[0.3333333333333333,\"#9c179e\"],[0.4444444444444444,\"#bd3786\"],[0.5555555555555556,\"#d8576b\"],[0.6666666666666666,\"#ed7953\"],[0.7777777777777778,\"#fb9f3a\"],[0.8888888888888888,\"#fdca26\"],[1.0,\"#f0f921\"]],\"sequentialminus\":[[0.0,\"#0d0887\"],[0.1111111111111111,\"#46039f\"],[0.2222222222222222,\"#7201a8\"],[0.3333333333333333,\"#9c179e\"],[0.4444444444444444,\"#bd3786\"],[0.5555555555555556,\"#d8576b\"],[0.6666666666666666,\"#ed7953\"],[0.7777777777777778,\"#fb9f3a\"],[0.8888888888888888,\"#fdca26\"],[1.0,\"#f0f921\"]]},\"colorway\":[\"#636efa\",\"#EF553B\",\"#00cc96\",\"#ab63fa\",\"#FFA15A\",\"#19d3f3\",\"#FF6692\",\"#B6E880\",\"#FF97FF\",\"#FECB52\"],\"font\":{\"color\":\"#2a3f5f\"},\"geo\":{\"bgcolor\":\"white\",\"lakecolor\":\"white\",\"landcolor\":\"#E5ECF6\",\"showlakes\":true,\"showland\":true,\"subunitcolor\":\"white\"},\"hoverlabel\":{\"align\":\"left\"},\"hovermode\":\"closest\",\"mapbox\":{\"style\":\"light\"},\"paper_bgcolor\":\"white\",\"plot_bgcolor\":\"#E5ECF6\",\"polar\":{\"angularaxis\":{\"gridcolor\":\"white\",\"linecolor\":\"white\",\"ticks\":\"\"},\"bgcolor\":\"#E5ECF6\",\"radialaxis\":{\"gridcolor\":\"white\",\"linecolor\":\"white\",\"ticks\":\"\"}},\"scene\":{\"xaxis\":{\"backgroundcolor\":\"#E5ECF6\",\"gridcolor\":\"white\",\"gridwidth\":2,\"linecolor\":\"white\",\"showbackground\":true,\"ticks\":\"\",\"zerolinecolor\":\"white\"},\"yaxis\":{\"backgroundcolor\":\"#E5ECF6\",\"gridcolor\":\"white\",\"gridwidth\":2,\"linecolor\":\"white\",\"showbackground\":true,\"ticks\":\"\",\"zerolinecolor\":\"white\"},\"zaxis\":{\"backgroundcolor\":\"#E5ECF6\",\"gridcolor\":\"white\",\"gridwidth\":2,\"linecolor\":\"white\",\"showbackground\":true,\"ticks\":\"\",\"zerolinecolor\":\"white\"}},\"shapedefaults\":{\"line\":{\"color\":\"#2a3f5f\"}},\"ternary\":{\"aaxis\":{\"gridcolor\":\"white\",\"linecolor\":\"white\",\"ticks\":\"\"},\"baxis\":{\"gridcolor\":\"white\",\"linecolor\":\"white\",\"ticks\":\"\"},\"bgcolor\":\"#E5ECF6\",\"caxis\":{\"gridcolor\":\"white\",\"linecolor\":\"white\",\"ticks\":\"\"}},\"title\":{\"x\":0.05},\"xaxis\":{\"automargin\":true,\"gridcolor\":\"white\",\"linecolor\":\"white\",\"ticks\":\"\",\"title\":{\"standoff\":15},\"zerolinecolor\":\"white\",\"zerolinewidth\":2},\"yaxis\":{\"automargin\":true,\"gridcolor\":\"white\",\"linecolor\":\"white\",\"ticks\":\"\",\"title\":{\"standoff\":15},\"zerolinecolor\":\"white\",\"zerolinewidth\":2}}},\"xaxis\":{\"anchor\":\"y\",\"domain\":[0.0,1.0],\"title\":{\"text\":\"Year-Month\"}},\"yaxis\":{\"anchor\":\"x\",\"domain\":[0.0,1.0],\"title\":{\"text\":\"Total Sales ($)\"}},\"legend\":{\"title\":{\"text\":\"Country\"},\"tracegroupgap\":0},\"title\":{\"text\":\"Total Sales by Country and Month\"}},                        {\"responsive\": true}                    ).then(function(){\n",
       "                            \n",
       "var gd = document.getElementById('d7f93a9d-2847-4cad-a424-52ce39badfb5');\n",
       "var x = new MutationObserver(function (mutations, observer) {{\n",
       "        var display = window.getComputedStyle(gd).display;\n",
       "        if (!display || display === 'none') {{\n",
       "            console.log([gd, 'removed!']);\n",
       "            Plotly.purge(gd);\n",
       "            observer.disconnect();\n",
       "        }}\n",
       "}});\n",
       "\n",
       "// Listen for the removal of the full notebook cells\n",
       "var notebookContainer = gd.closest('#notebook-container');\n",
       "if (notebookContainer) {{\n",
       "    x.observe(notebookContainer, {childList: true});\n",
       "}}\n",
       "\n",
       "// Listen for the clearing of the current output cell\n",
       "var outputEl = gd.closest('.output');\n",
       "if (outputEl) {{\n",
       "    x.observe(outputEl, {childList: true});\n",
       "}}\n",
       "\n",
       "                        })                };                });            </script>        </div>"
      ]
     },
     "metadata": {},
     "output_type": "display_data"
    }
   ],
   "source": [
    "import pandas as pd\n",
    "import plotly.express as px\n",
    "ecom_sales = pd.read_csv(csv_filepath)\n",
    "ecom_sales = ecom_sales.groupby(['Year-Month','Country'])['OrderValue'].agg('sum').reset_index(name='Total Sales ($)')\n",
    "\n",
    "# Create the line graph\n",
    "line_graph = px.line(\n",
    "  # Set the appropriate DataFrame and title\n",
    "  data_frame=ecom_sales, title='Total Sales by Country and Month', \n",
    "  # Set the x and y arguments\n",
    "  x='Year-Month', y='Total Sales ($)',\n",
    "  # Ensure a separate line per country\n",
    "  color='Country')\n",
    "\n",
    "line_graph.show()"
   ]
  },
  {
   "cell_type": "markdown",
   "id": "6ab89869",
   "metadata": {},
   "source": [
    "### Bar graph of sales by country"
   ]
  },
  {
   "cell_type": "code",
   "execution_count": 4,
   "id": "af3ca2bb",
   "metadata": {},
   "outputs": [
    {
     "data": {
      "application/vnd.plotly.v1+json": {
       "config": {
        "plotlyServerURL": "https://plot.ly"
       },
       "data": [
        {
         "alignmentgroup": "True",
         "hovertemplate": "Total Sales ($)=%{x}<br>Country=%{y}<extra></extra>",
         "legendgroup": "",
         "marker": {
          "color": "#636efa",
          "pattern": {
           "shape": ""
          }
         },
         "name": "",
         "offsetgroup": "",
         "orientation": "h",
         "showlegend": false,
         "textposition": "auto",
         "type": "bar",
         "x": [
          6349.89,
          5638.16,
          3153.71,
          1660.24,
          5582.93
         ],
         "xaxis": "x",
         "y": [
          "Australia",
          "France",
          "Germany",
          "Hong Kong",
          "United Kingdom"
         ],
         "yaxis": "y"
        }
       ],
       "layout": {
        "bargap": 0.5,
        "barmode": "relative",
        "legend": {
         "tracegroupgap": 0
        },
        "template": {
         "data": {
          "bar": [
           {
            "error_x": {
             "color": "#2a3f5f"
            },
            "error_y": {
             "color": "#2a3f5f"
            },
            "marker": {
             "line": {
              "color": "#E5ECF6",
              "width": 0.5
             },
             "pattern": {
              "fillmode": "overlay",
              "size": 10,
              "solidity": 0.2
             }
            },
            "type": "bar"
           }
          ],
          "barpolar": [
           {
            "marker": {
             "line": {
              "color": "#E5ECF6",
              "width": 0.5
             },
             "pattern": {
              "fillmode": "overlay",
              "size": 10,
              "solidity": 0.2
             }
            },
            "type": "barpolar"
           }
          ],
          "carpet": [
           {
            "aaxis": {
             "endlinecolor": "#2a3f5f",
             "gridcolor": "white",
             "linecolor": "white",
             "minorgridcolor": "white",
             "startlinecolor": "#2a3f5f"
            },
            "baxis": {
             "endlinecolor": "#2a3f5f",
             "gridcolor": "white",
             "linecolor": "white",
             "minorgridcolor": "white",
             "startlinecolor": "#2a3f5f"
            },
            "type": "carpet"
           }
          ],
          "choropleth": [
           {
            "colorbar": {
             "outlinewidth": 0,
             "ticks": ""
            },
            "type": "choropleth"
           }
          ],
          "contour": [
           {
            "colorbar": {
             "outlinewidth": 0,
             "ticks": ""
            },
            "colorscale": [
             [
              0,
              "#0d0887"
             ],
             [
              0.1111111111111111,
              "#46039f"
             ],
             [
              0.2222222222222222,
              "#7201a8"
             ],
             [
              0.3333333333333333,
              "#9c179e"
             ],
             [
              0.4444444444444444,
              "#bd3786"
             ],
             [
              0.5555555555555556,
              "#d8576b"
             ],
             [
              0.6666666666666666,
              "#ed7953"
             ],
             [
              0.7777777777777778,
              "#fb9f3a"
             ],
             [
              0.8888888888888888,
              "#fdca26"
             ],
             [
              1,
              "#f0f921"
             ]
            ],
            "type": "contour"
           }
          ],
          "contourcarpet": [
           {
            "colorbar": {
             "outlinewidth": 0,
             "ticks": ""
            },
            "type": "contourcarpet"
           }
          ],
          "heatmap": [
           {
            "colorbar": {
             "outlinewidth": 0,
             "ticks": ""
            },
            "colorscale": [
             [
              0,
              "#0d0887"
             ],
             [
              0.1111111111111111,
              "#46039f"
             ],
             [
              0.2222222222222222,
              "#7201a8"
             ],
             [
              0.3333333333333333,
              "#9c179e"
             ],
             [
              0.4444444444444444,
              "#bd3786"
             ],
             [
              0.5555555555555556,
              "#d8576b"
             ],
             [
              0.6666666666666666,
              "#ed7953"
             ],
             [
              0.7777777777777778,
              "#fb9f3a"
             ],
             [
              0.8888888888888888,
              "#fdca26"
             ],
             [
              1,
              "#f0f921"
             ]
            ],
            "type": "heatmap"
           }
          ],
          "heatmapgl": [
           {
            "colorbar": {
             "outlinewidth": 0,
             "ticks": ""
            },
            "colorscale": [
             [
              0,
              "#0d0887"
             ],
             [
              0.1111111111111111,
              "#46039f"
             ],
             [
              0.2222222222222222,
              "#7201a8"
             ],
             [
              0.3333333333333333,
              "#9c179e"
             ],
             [
              0.4444444444444444,
              "#bd3786"
             ],
             [
              0.5555555555555556,
              "#d8576b"
             ],
             [
              0.6666666666666666,
              "#ed7953"
             ],
             [
              0.7777777777777778,
              "#fb9f3a"
             ],
             [
              0.8888888888888888,
              "#fdca26"
             ],
             [
              1,
              "#f0f921"
             ]
            ],
            "type": "heatmapgl"
           }
          ],
          "histogram": [
           {
            "marker": {
             "pattern": {
              "fillmode": "overlay",
              "size": 10,
              "solidity": 0.2
             }
            },
            "type": "histogram"
           }
          ],
          "histogram2d": [
           {
            "colorbar": {
             "outlinewidth": 0,
             "ticks": ""
            },
            "colorscale": [
             [
              0,
              "#0d0887"
             ],
             [
              0.1111111111111111,
              "#46039f"
             ],
             [
              0.2222222222222222,
              "#7201a8"
             ],
             [
              0.3333333333333333,
              "#9c179e"
             ],
             [
              0.4444444444444444,
              "#bd3786"
             ],
             [
              0.5555555555555556,
              "#d8576b"
             ],
             [
              0.6666666666666666,
              "#ed7953"
             ],
             [
              0.7777777777777778,
              "#fb9f3a"
             ],
             [
              0.8888888888888888,
              "#fdca26"
             ],
             [
              1,
              "#f0f921"
             ]
            ],
            "type": "histogram2d"
           }
          ],
          "histogram2dcontour": [
           {
            "colorbar": {
             "outlinewidth": 0,
             "ticks": ""
            },
            "colorscale": [
             [
              0,
              "#0d0887"
             ],
             [
              0.1111111111111111,
              "#46039f"
             ],
             [
              0.2222222222222222,
              "#7201a8"
             ],
             [
              0.3333333333333333,
              "#9c179e"
             ],
             [
              0.4444444444444444,
              "#bd3786"
             ],
             [
              0.5555555555555556,
              "#d8576b"
             ],
             [
              0.6666666666666666,
              "#ed7953"
             ],
             [
              0.7777777777777778,
              "#fb9f3a"
             ],
             [
              0.8888888888888888,
              "#fdca26"
             ],
             [
              1,
              "#f0f921"
             ]
            ],
            "type": "histogram2dcontour"
           }
          ],
          "mesh3d": [
           {
            "colorbar": {
             "outlinewidth": 0,
             "ticks": ""
            },
            "type": "mesh3d"
           }
          ],
          "parcoords": [
           {
            "line": {
             "colorbar": {
              "outlinewidth": 0,
              "ticks": ""
             }
            },
            "type": "parcoords"
           }
          ],
          "pie": [
           {
            "automargin": true,
            "type": "pie"
           }
          ],
          "scatter": [
           {
            "marker": {
             "colorbar": {
              "outlinewidth": 0,
              "ticks": ""
             }
            },
            "type": "scatter"
           }
          ],
          "scatter3d": [
           {
            "line": {
             "colorbar": {
              "outlinewidth": 0,
              "ticks": ""
             }
            },
            "marker": {
             "colorbar": {
              "outlinewidth": 0,
              "ticks": ""
             }
            },
            "type": "scatter3d"
           }
          ],
          "scattercarpet": [
           {
            "marker": {
             "colorbar": {
              "outlinewidth": 0,
              "ticks": ""
             }
            },
            "type": "scattercarpet"
           }
          ],
          "scattergeo": [
           {
            "marker": {
             "colorbar": {
              "outlinewidth": 0,
              "ticks": ""
             }
            },
            "type": "scattergeo"
           }
          ],
          "scattergl": [
           {
            "marker": {
             "colorbar": {
              "outlinewidth": 0,
              "ticks": ""
             }
            },
            "type": "scattergl"
           }
          ],
          "scattermapbox": [
           {
            "marker": {
             "colorbar": {
              "outlinewidth": 0,
              "ticks": ""
             }
            },
            "type": "scattermapbox"
           }
          ],
          "scatterpolar": [
           {
            "marker": {
             "colorbar": {
              "outlinewidth": 0,
              "ticks": ""
             }
            },
            "type": "scatterpolar"
           }
          ],
          "scatterpolargl": [
           {
            "marker": {
             "colorbar": {
              "outlinewidth": 0,
              "ticks": ""
             }
            },
            "type": "scatterpolargl"
           }
          ],
          "scatterternary": [
           {
            "marker": {
             "colorbar": {
              "outlinewidth": 0,
              "ticks": ""
             }
            },
            "type": "scatterternary"
           }
          ],
          "surface": [
           {
            "colorbar": {
             "outlinewidth": 0,
             "ticks": ""
            },
            "colorscale": [
             [
              0,
              "#0d0887"
             ],
             [
              0.1111111111111111,
              "#46039f"
             ],
             [
              0.2222222222222222,
              "#7201a8"
             ],
             [
              0.3333333333333333,
              "#9c179e"
             ],
             [
              0.4444444444444444,
              "#bd3786"
             ],
             [
              0.5555555555555556,
              "#d8576b"
             ],
             [
              0.6666666666666666,
              "#ed7953"
             ],
             [
              0.7777777777777778,
              "#fb9f3a"
             ],
             [
              0.8888888888888888,
              "#fdca26"
             ],
             [
              1,
              "#f0f921"
             ]
            ],
            "type": "surface"
           }
          ],
          "table": [
           {
            "cells": {
             "fill": {
              "color": "#EBF0F8"
             },
             "line": {
              "color": "white"
             }
            },
            "header": {
             "fill": {
              "color": "#C8D4E3"
             },
             "line": {
              "color": "white"
             }
            },
            "type": "table"
           }
          ]
         },
         "layout": {
          "annotationdefaults": {
           "arrowcolor": "#2a3f5f",
           "arrowhead": 0,
           "arrowwidth": 1
          },
          "autotypenumbers": "strict",
          "coloraxis": {
           "colorbar": {
            "outlinewidth": 0,
            "ticks": ""
           }
          },
          "colorscale": {
           "diverging": [
            [
             0,
             "#8e0152"
            ],
            [
             0.1,
             "#c51b7d"
            ],
            [
             0.2,
             "#de77ae"
            ],
            [
             0.3,
             "#f1b6da"
            ],
            [
             0.4,
             "#fde0ef"
            ],
            [
             0.5,
             "#f7f7f7"
            ],
            [
             0.6,
             "#e6f5d0"
            ],
            [
             0.7,
             "#b8e186"
            ],
            [
             0.8,
             "#7fbc41"
            ],
            [
             0.9,
             "#4d9221"
            ],
            [
             1,
             "#276419"
            ]
           ],
           "sequential": [
            [
             0,
             "#0d0887"
            ],
            [
             0.1111111111111111,
             "#46039f"
            ],
            [
             0.2222222222222222,
             "#7201a8"
            ],
            [
             0.3333333333333333,
             "#9c179e"
            ],
            [
             0.4444444444444444,
             "#bd3786"
            ],
            [
             0.5555555555555556,
             "#d8576b"
            ],
            [
             0.6666666666666666,
             "#ed7953"
            ],
            [
             0.7777777777777778,
             "#fb9f3a"
            ],
            [
             0.8888888888888888,
             "#fdca26"
            ],
            [
             1,
             "#f0f921"
            ]
           ],
           "sequentialminus": [
            [
             0,
             "#0d0887"
            ],
            [
             0.1111111111111111,
             "#46039f"
            ],
            [
             0.2222222222222222,
             "#7201a8"
            ],
            [
             0.3333333333333333,
             "#9c179e"
            ],
            [
             0.4444444444444444,
             "#bd3786"
            ],
            [
             0.5555555555555556,
             "#d8576b"
            ],
            [
             0.6666666666666666,
             "#ed7953"
            ],
            [
             0.7777777777777778,
             "#fb9f3a"
            ],
            [
             0.8888888888888888,
             "#fdca26"
            ],
            [
             1,
             "#f0f921"
            ]
           ]
          },
          "colorway": [
           "#636efa",
           "#EF553B",
           "#00cc96",
           "#ab63fa",
           "#FFA15A",
           "#19d3f3",
           "#FF6692",
           "#B6E880",
           "#FF97FF",
           "#FECB52"
          ],
          "font": {
           "color": "#2a3f5f"
          },
          "geo": {
           "bgcolor": "white",
           "lakecolor": "white",
           "landcolor": "#E5ECF6",
           "showlakes": true,
           "showland": true,
           "subunitcolor": "white"
          },
          "hoverlabel": {
           "align": "left"
          },
          "hovermode": "closest",
          "mapbox": {
           "style": "light"
          },
          "paper_bgcolor": "white",
          "plot_bgcolor": "#E5ECF6",
          "polar": {
           "angularaxis": {
            "gridcolor": "white",
            "linecolor": "white",
            "ticks": ""
           },
           "bgcolor": "#E5ECF6",
           "radialaxis": {
            "gridcolor": "white",
            "linecolor": "white",
            "ticks": ""
           }
          },
          "scene": {
           "xaxis": {
            "backgroundcolor": "#E5ECF6",
            "gridcolor": "white",
            "gridwidth": 2,
            "linecolor": "white",
            "showbackground": true,
            "ticks": "",
            "zerolinecolor": "white"
           },
           "yaxis": {
            "backgroundcolor": "#E5ECF6",
            "gridcolor": "white",
            "gridwidth": 2,
            "linecolor": "white",
            "showbackground": true,
            "ticks": "",
            "zerolinecolor": "white"
           },
           "zaxis": {
            "backgroundcolor": "#E5ECF6",
            "gridcolor": "white",
            "gridwidth": 2,
            "linecolor": "white",
            "showbackground": true,
            "ticks": "",
            "zerolinecolor": "white"
           }
          },
          "shapedefaults": {
           "line": {
            "color": "#2a3f5f"
           }
          },
          "ternary": {
           "aaxis": {
            "gridcolor": "white",
            "linecolor": "white",
            "ticks": ""
           },
           "baxis": {
            "gridcolor": "white",
            "linecolor": "white",
            "ticks": ""
           },
           "bgcolor": "#E5ECF6",
           "caxis": {
            "gridcolor": "white",
            "linecolor": "white",
            "ticks": ""
           }
          },
          "title": {
           "x": 0.05
          },
          "xaxis": {
           "automargin": true,
           "gridcolor": "white",
           "linecolor": "white",
           "ticks": "",
           "title": {
            "standoff": 15
           },
           "zerolinecolor": "white",
           "zerolinewidth": 2
          },
          "yaxis": {
           "automargin": true,
           "gridcolor": "white",
           "linecolor": "white",
           "ticks": "",
           "title": {
            "standoff": 15
           },
           "zerolinecolor": "white",
           "zerolinewidth": 2
          }
         }
        },
        "title": {
         "text": "Total Sales by Country"
        },
        "xaxis": {
         "anchor": "y",
         "domain": [
          0,
          1
         ],
         "title": {
          "text": "Total Sales ($)"
         }
        },
        "yaxis": {
         "anchor": "x",
         "domain": [
          0,
          1
         ],
         "title": {
          "text": "Country"
         }
        }
       }
      },
      "text/html": [
       "<div>                            <div id=\"ffc909c4-ee35-42af-b22d-29444c874ad2\" class=\"plotly-graph-div\" style=\"height:525px; width:100%;\"></div>            <script type=\"text/javascript\">                require([\"plotly\"], function(Plotly) {                    window.PLOTLYENV=window.PLOTLYENV || {};                                    if (document.getElementById(\"ffc909c4-ee35-42af-b22d-29444c874ad2\")) {                    Plotly.newPlot(                        \"ffc909c4-ee35-42af-b22d-29444c874ad2\",                        [{\"alignmentgroup\":\"True\",\"hovertemplate\":\"Total Sales ($)=%{x}<br>Country=%{y}<extra></extra>\",\"legendgroup\":\"\",\"marker\":{\"color\":\"#636efa\",\"pattern\":{\"shape\":\"\"}},\"name\":\"\",\"offsetgroup\":\"\",\"orientation\":\"h\",\"showlegend\":false,\"textposition\":\"auto\",\"x\":[6349.89,5638.16,3153.71,1660.24,5582.93],\"xaxis\":\"x\",\"y\":[\"Australia\",\"France\",\"Germany\",\"Hong Kong\",\"United Kingdom\"],\"yaxis\":\"y\",\"type\":\"bar\"}],                        {\"template\":{\"data\":{\"bar\":[{\"error_x\":{\"color\":\"#2a3f5f\"},\"error_y\":{\"color\":\"#2a3f5f\"},\"marker\":{\"line\":{\"color\":\"#E5ECF6\",\"width\":0.5},\"pattern\":{\"fillmode\":\"overlay\",\"size\":10,\"solidity\":0.2}},\"type\":\"bar\"}],\"barpolar\":[{\"marker\":{\"line\":{\"color\":\"#E5ECF6\",\"width\":0.5},\"pattern\":{\"fillmode\":\"overlay\",\"size\":10,\"solidity\":0.2}},\"type\":\"barpolar\"}],\"carpet\":[{\"aaxis\":{\"endlinecolor\":\"#2a3f5f\",\"gridcolor\":\"white\",\"linecolor\":\"white\",\"minorgridcolor\":\"white\",\"startlinecolor\":\"#2a3f5f\"},\"baxis\":{\"endlinecolor\":\"#2a3f5f\",\"gridcolor\":\"white\",\"linecolor\":\"white\",\"minorgridcolor\":\"white\",\"startlinecolor\":\"#2a3f5f\"},\"type\":\"carpet\"}],\"choropleth\":[{\"colorbar\":{\"outlinewidth\":0,\"ticks\":\"\"},\"type\":\"choropleth\"}],\"contour\":[{\"colorbar\":{\"outlinewidth\":0,\"ticks\":\"\"},\"colorscale\":[[0.0,\"#0d0887\"],[0.1111111111111111,\"#46039f\"],[0.2222222222222222,\"#7201a8\"],[0.3333333333333333,\"#9c179e\"],[0.4444444444444444,\"#bd3786\"],[0.5555555555555556,\"#d8576b\"],[0.6666666666666666,\"#ed7953\"],[0.7777777777777778,\"#fb9f3a\"],[0.8888888888888888,\"#fdca26\"],[1.0,\"#f0f921\"]],\"type\":\"contour\"}],\"contourcarpet\":[{\"colorbar\":{\"outlinewidth\":0,\"ticks\":\"\"},\"type\":\"contourcarpet\"}],\"heatmap\":[{\"colorbar\":{\"outlinewidth\":0,\"ticks\":\"\"},\"colorscale\":[[0.0,\"#0d0887\"],[0.1111111111111111,\"#46039f\"],[0.2222222222222222,\"#7201a8\"],[0.3333333333333333,\"#9c179e\"],[0.4444444444444444,\"#bd3786\"],[0.5555555555555556,\"#d8576b\"],[0.6666666666666666,\"#ed7953\"],[0.7777777777777778,\"#fb9f3a\"],[0.8888888888888888,\"#fdca26\"],[1.0,\"#f0f921\"]],\"type\":\"heatmap\"}],\"heatmapgl\":[{\"colorbar\":{\"outlinewidth\":0,\"ticks\":\"\"},\"colorscale\":[[0.0,\"#0d0887\"],[0.1111111111111111,\"#46039f\"],[0.2222222222222222,\"#7201a8\"],[0.3333333333333333,\"#9c179e\"],[0.4444444444444444,\"#bd3786\"],[0.5555555555555556,\"#d8576b\"],[0.6666666666666666,\"#ed7953\"],[0.7777777777777778,\"#fb9f3a\"],[0.8888888888888888,\"#fdca26\"],[1.0,\"#f0f921\"]],\"type\":\"heatmapgl\"}],\"histogram\":[{\"marker\":{\"pattern\":{\"fillmode\":\"overlay\",\"size\":10,\"solidity\":0.2}},\"type\":\"histogram\"}],\"histogram2d\":[{\"colorbar\":{\"outlinewidth\":0,\"ticks\":\"\"},\"colorscale\":[[0.0,\"#0d0887\"],[0.1111111111111111,\"#46039f\"],[0.2222222222222222,\"#7201a8\"],[0.3333333333333333,\"#9c179e\"],[0.4444444444444444,\"#bd3786\"],[0.5555555555555556,\"#d8576b\"],[0.6666666666666666,\"#ed7953\"],[0.7777777777777778,\"#fb9f3a\"],[0.8888888888888888,\"#fdca26\"],[1.0,\"#f0f921\"]],\"type\":\"histogram2d\"}],\"histogram2dcontour\":[{\"colorbar\":{\"outlinewidth\":0,\"ticks\":\"\"},\"colorscale\":[[0.0,\"#0d0887\"],[0.1111111111111111,\"#46039f\"],[0.2222222222222222,\"#7201a8\"],[0.3333333333333333,\"#9c179e\"],[0.4444444444444444,\"#bd3786\"],[0.5555555555555556,\"#d8576b\"],[0.6666666666666666,\"#ed7953\"],[0.7777777777777778,\"#fb9f3a\"],[0.8888888888888888,\"#fdca26\"],[1.0,\"#f0f921\"]],\"type\":\"histogram2dcontour\"}],\"mesh3d\":[{\"colorbar\":{\"outlinewidth\":0,\"ticks\":\"\"},\"type\":\"mesh3d\"}],\"parcoords\":[{\"line\":{\"colorbar\":{\"outlinewidth\":0,\"ticks\":\"\"}},\"type\":\"parcoords\"}],\"pie\":[{\"automargin\":true,\"type\":\"pie\"}],\"scatter\":[{\"marker\":{\"colorbar\":{\"outlinewidth\":0,\"ticks\":\"\"}},\"type\":\"scatter\"}],\"scatter3d\":[{\"line\":{\"colorbar\":{\"outlinewidth\":0,\"ticks\":\"\"}},\"marker\":{\"colorbar\":{\"outlinewidth\":0,\"ticks\":\"\"}},\"type\":\"scatter3d\"}],\"scattercarpet\":[{\"marker\":{\"colorbar\":{\"outlinewidth\":0,\"ticks\":\"\"}},\"type\":\"scattercarpet\"}],\"scattergeo\":[{\"marker\":{\"colorbar\":{\"outlinewidth\":0,\"ticks\":\"\"}},\"type\":\"scattergeo\"}],\"scattergl\":[{\"marker\":{\"colorbar\":{\"outlinewidth\":0,\"ticks\":\"\"}},\"type\":\"scattergl\"}],\"scattermapbox\":[{\"marker\":{\"colorbar\":{\"outlinewidth\":0,\"ticks\":\"\"}},\"type\":\"scattermapbox\"}],\"scatterpolar\":[{\"marker\":{\"colorbar\":{\"outlinewidth\":0,\"ticks\":\"\"}},\"type\":\"scatterpolar\"}],\"scatterpolargl\":[{\"marker\":{\"colorbar\":{\"outlinewidth\":0,\"ticks\":\"\"}},\"type\":\"scatterpolargl\"}],\"scatterternary\":[{\"marker\":{\"colorbar\":{\"outlinewidth\":0,\"ticks\":\"\"}},\"type\":\"scatterternary\"}],\"surface\":[{\"colorbar\":{\"outlinewidth\":0,\"ticks\":\"\"},\"colorscale\":[[0.0,\"#0d0887\"],[0.1111111111111111,\"#46039f\"],[0.2222222222222222,\"#7201a8\"],[0.3333333333333333,\"#9c179e\"],[0.4444444444444444,\"#bd3786\"],[0.5555555555555556,\"#d8576b\"],[0.6666666666666666,\"#ed7953\"],[0.7777777777777778,\"#fb9f3a\"],[0.8888888888888888,\"#fdca26\"],[1.0,\"#f0f921\"]],\"type\":\"surface\"}],\"table\":[{\"cells\":{\"fill\":{\"color\":\"#EBF0F8\"},\"line\":{\"color\":\"white\"}},\"header\":{\"fill\":{\"color\":\"#C8D4E3\"},\"line\":{\"color\":\"white\"}},\"type\":\"table\"}]},\"layout\":{\"annotationdefaults\":{\"arrowcolor\":\"#2a3f5f\",\"arrowhead\":0,\"arrowwidth\":1},\"autotypenumbers\":\"strict\",\"coloraxis\":{\"colorbar\":{\"outlinewidth\":0,\"ticks\":\"\"}},\"colorscale\":{\"diverging\":[[0,\"#8e0152\"],[0.1,\"#c51b7d\"],[0.2,\"#de77ae\"],[0.3,\"#f1b6da\"],[0.4,\"#fde0ef\"],[0.5,\"#f7f7f7\"],[0.6,\"#e6f5d0\"],[0.7,\"#b8e186\"],[0.8,\"#7fbc41\"],[0.9,\"#4d9221\"],[1,\"#276419\"]],\"sequential\":[[0.0,\"#0d0887\"],[0.1111111111111111,\"#46039f\"],[0.2222222222222222,\"#7201a8\"],[0.3333333333333333,\"#9c179e\"],[0.4444444444444444,\"#bd3786\"],[0.5555555555555556,\"#d8576b\"],[0.6666666666666666,\"#ed7953\"],[0.7777777777777778,\"#fb9f3a\"],[0.8888888888888888,\"#fdca26\"],[1.0,\"#f0f921\"]],\"sequentialminus\":[[0.0,\"#0d0887\"],[0.1111111111111111,\"#46039f\"],[0.2222222222222222,\"#7201a8\"],[0.3333333333333333,\"#9c179e\"],[0.4444444444444444,\"#bd3786\"],[0.5555555555555556,\"#d8576b\"],[0.6666666666666666,\"#ed7953\"],[0.7777777777777778,\"#fb9f3a\"],[0.8888888888888888,\"#fdca26\"],[1.0,\"#f0f921\"]]},\"colorway\":[\"#636efa\",\"#EF553B\",\"#00cc96\",\"#ab63fa\",\"#FFA15A\",\"#19d3f3\",\"#FF6692\",\"#B6E880\",\"#FF97FF\",\"#FECB52\"],\"font\":{\"color\":\"#2a3f5f\"},\"geo\":{\"bgcolor\":\"white\",\"lakecolor\":\"white\",\"landcolor\":\"#E5ECF6\",\"showlakes\":true,\"showland\":true,\"subunitcolor\":\"white\"},\"hoverlabel\":{\"align\":\"left\"},\"hovermode\":\"closest\",\"mapbox\":{\"style\":\"light\"},\"paper_bgcolor\":\"white\",\"plot_bgcolor\":\"#E5ECF6\",\"polar\":{\"angularaxis\":{\"gridcolor\":\"white\",\"linecolor\":\"white\",\"ticks\":\"\"},\"bgcolor\":\"#E5ECF6\",\"radialaxis\":{\"gridcolor\":\"white\",\"linecolor\":\"white\",\"ticks\":\"\"}},\"scene\":{\"xaxis\":{\"backgroundcolor\":\"#E5ECF6\",\"gridcolor\":\"white\",\"gridwidth\":2,\"linecolor\":\"white\",\"showbackground\":true,\"ticks\":\"\",\"zerolinecolor\":\"white\"},\"yaxis\":{\"backgroundcolor\":\"#E5ECF6\",\"gridcolor\":\"white\",\"gridwidth\":2,\"linecolor\":\"white\",\"showbackground\":true,\"ticks\":\"\",\"zerolinecolor\":\"white\"},\"zaxis\":{\"backgroundcolor\":\"#E5ECF6\",\"gridcolor\":\"white\",\"gridwidth\":2,\"linecolor\":\"white\",\"showbackground\":true,\"ticks\":\"\",\"zerolinecolor\":\"white\"}},\"shapedefaults\":{\"line\":{\"color\":\"#2a3f5f\"}},\"ternary\":{\"aaxis\":{\"gridcolor\":\"white\",\"linecolor\":\"white\",\"ticks\":\"\"},\"baxis\":{\"gridcolor\":\"white\",\"linecolor\":\"white\",\"ticks\":\"\"},\"bgcolor\":\"#E5ECF6\",\"caxis\":{\"gridcolor\":\"white\",\"linecolor\":\"white\",\"ticks\":\"\"}},\"title\":{\"x\":0.05},\"xaxis\":{\"automargin\":true,\"gridcolor\":\"white\",\"linecolor\":\"white\",\"ticks\":\"\",\"title\":{\"standoff\":15},\"zerolinecolor\":\"white\",\"zerolinewidth\":2},\"yaxis\":{\"automargin\":true,\"gridcolor\":\"white\",\"linecolor\":\"white\",\"ticks\":\"\",\"title\":{\"standoff\":15},\"zerolinecolor\":\"white\",\"zerolinewidth\":2}}},\"xaxis\":{\"anchor\":\"y\",\"domain\":[0.0,1.0],\"title\":{\"text\":\"Total Sales ($)\"}},\"yaxis\":{\"anchor\":\"x\",\"domain\":[0.0,1.0],\"title\":{\"text\":\"Country\"}},\"legend\":{\"tracegroupgap\":0},\"title\":{\"text\":\"Total Sales by Country\"},\"barmode\":\"relative\",\"bargap\":0.5},                        {\"responsive\": true}                    ).then(function(){\n",
       "                            \n",
       "var gd = document.getElementById('ffc909c4-ee35-42af-b22d-29444c874ad2');\n",
       "var x = new MutationObserver(function (mutations, observer) {{\n",
       "        var display = window.getComputedStyle(gd).display;\n",
       "        if (!display || display === 'none') {{\n",
       "            console.log([gd, 'removed!']);\n",
       "            Plotly.purge(gd);\n",
       "            observer.disconnect();\n",
       "        }}\n",
       "}});\n",
       "\n",
       "// Listen for the removal of the full notebook cells\n",
       "var notebookContainer = gd.closest('#notebook-container');\n",
       "if (notebookContainer) {{\n",
       "    x.observe(notebookContainer, {childList: true});\n",
       "}}\n",
       "\n",
       "// Listen for the clearing of the current output cell\n",
       "var outputEl = gd.closest('.output');\n",
       "if (outputEl) {{\n",
       "    x.observe(outputEl, {childList: true});\n",
       "}}\n",
       "\n",
       "                        })                };                });            </script>        </div>"
      ]
     },
     "metadata": {},
     "output_type": "display_data"
    }
   ],
   "source": [
    "import pandas as pd\n",
    "import plotly.express as px\n",
    "ecom_sales = pd.read_csv(csv_filepath)\n",
    "ecom_sales = ecom_sales.groupby('Country')['OrderValue'].agg('sum').reset_index(name='Total Sales ($)')\n",
    "\n",
    "# Create the bar graph object\n",
    "bar_fig = px.bar(\n",
    "  # Set the DataFrame, x and y\n",
    "  data_frame=ecom_sales, x='Total Sales ($)', y='Country',\n",
    "  # Set the graph to be horizontal\n",
    "  orientation='h', title='Total Sales by Country')\n",
    "\n",
    "# Increase the gap between bars\n",
    "bar_fig.update_layout({'bargap': 0.5})\n",
    "\n",
    "bar_fig.show()"
   ]
  },
  {
   "cell_type": "markdown",
   "id": "62e14488",
   "metadata": {},
   "source": [
    "## Dash"
   ]
  },
  {
   "cell_type": "markdown",
   "id": "90726ed0",
   "metadata": {},
   "source": [
    "### Sales in a Dash app"
   ]
  },
  {
   "cell_type": "raw",
   "id": "6740e091",
   "metadata": {},
   "source": [
    "import dash\n",
    "from dash import dcc\n",
    "import pandas as pd\n",
    "import plotly.express as px\n",
    "ecom_sales = pd.read_csv(csv_filepath)\n",
    "ecom_sales = ecom_sales.groupby(['Year-Month','Country'])['OrderValue'].agg('sum').reset_index(name='Total Sales ($)')\n",
    "line_fig = px.line(data_frame=ecom_sales, x='Year-Month', y='Total Sales ($)', title='Total Sales by Month', color='Country')\n",
    "\n",
    "# Create the Dash app\n",
    "app = dash.Dash(__name__)\n",
    "\n",
    "# Set up the layout with a single graph\n",
    "app.layout = dcc.Graph(\n",
    "  id='my-line-graph',\n",
    "  # Insert the line graph\n",
    "  figure=line_fig)\n",
    "\n",
    "# Set the app to run in development mode\n",
    "if __name__ == '__main__':\n",
    "    app.run_server(debug=True)"
   ]
  },
  {
   "cell_type": "markdown",
   "id": "babb9d7d",
   "metadata": {},
   "source": [
    "### Combining HTML and Dash"
   ]
  },
  {
   "cell_type": "raw",
   "id": "d38bad32",
   "metadata": {},
   "source": [
    "import dash\n",
    "from dash import dcc\n",
    "from dash import html\n",
    "import pandas as pd\n",
    "import plotly.express as px\n",
    "ecom_sales = pd.read_csv(csv_filepath)\n",
    "ecom_line = ecom_sales.groupby(['Year-Month','Country'])['OrderValue'].agg('sum').reset_index(name='Total Sales ($)')\n",
    "ecom_bar = ecom_sales.groupby('Country')['OrderValue'].agg('sum').reset_index(name='Total Sales ($)')\n",
    "line_graph = px.line(data_frame=ecom_line, x='Year-Month', y='Total Sales ($)', title='Total Sales by Month', color='Country')\n",
    "bar_graph = px.bar(data_frame=ecom_bar, x='Total Sales ($)', y='Country', orientation='h',title='Total Sales by Country')\n",
    "\n",
    "# Create the Dash app\n",
    "app = dash.Dash(__name__)\n",
    "\n",
    "# Set up the layout using an overall div\n",
    "app.layout = html.Div(\n",
    "    children=[\n",
    "  # Add a H1\n",
    "  html.H1('Sales by Country & Over Time'),\n",
    "  # Add both graphs\n",
    "  dcc.Graph(id='line_graph', figure=line_graph),\n",
    "  dcc.Graph(id='bar_graph', figure=bar_graph)\n",
    "  ])\n",
    "\n",
    "if __name__ == '__main__':\n",
    "    app.run_server(debug=True)"
   ]
  },
  {
   "cell_type": "markdown",
   "id": "d2308fd1",
   "metadata": {},
   "source": [
    "### A draft sales dashboard"
   ]
  },
  {
   "cell_type": "raw",
   "id": "cc5c6a23",
   "metadata": {},
   "source": [
    "import dash\n",
    "from dash import dcc\n",
    "from dash import html\n",
    "import plotly.express as px\n",
    "import pandas as pd\n",
    "ecom_sales = pd.read_csv(csv_file)\n",
    "ecom_line = ecom_sales.groupby('Year-Month')['OrderValue'].agg('sum').reset_index(name='Total Sales ($)')\n",
    "line_fig = px.line(data_frame=ecom_line, x='Year-Month', y='Total Sales ($)', title='Total Sales by Month')\n",
    "ecom_bar = ecom_sales.groupby('Country')['OrderValue'].agg('sum').reset_index(name='Total Sales ($)')\n",
    "max_country = ecom_bar.sort_values(by='Total Sales ($)', ascending=False).loc[0]['Country']\n",
    "bar_fig = px.bar(data_frame=ecom_bar, x='Total Sales ($)', y='Country', orientation='h', title='Total Sales by Country')\n",
    "\n",
    "app = dash.Dash(__name__)\n",
    "\n",
    "# Create the dash layout and overall div\n",
    "app.layout = html.Div(children=[\n",
    "    html.H1('Sales Figures'), \n",
    "    # Add a div containing the line figure\n",
    "    html.Div(dcc.Graph(id='my-line-fig', figure=line_fig)), \n",
    "    # Add a div containing the bar figure\n",
    "    html.Div(dcc.Graph(id='my-bar-fig', figure=bar_fig)), \n",
    "    # Add the H3\n",
    "    html.H3(f'The largest country by sales was {max_country}')\n",
    "    ])\n",
    "\n",
    "if __name__ == '__main__':\n",
    "    app.run_server(debug=True)"
   ]
  },
  {
   "cell_type": "markdown",
   "id": "da3f7c7c",
   "metadata": {},
   "source": [
    "## Chapter 2: Styling Dash Apps"
   ]
  },
  {
   "cell_type": "markdown",
   "id": "a9eabed1",
   "metadata": {},
   "source": [
    "### Adding logos and notes"
   ]
  },
  {
   "cell_type": "raw",
   "id": "94ba775c",
   "metadata": {},
   "source": [
    "import dash\n",
    "from dash import dcc\n",
    "from dash import html\n",
    "import plotly.express as px\n",
    "import pandas as pd\n",
    "ecom_sales = pd.read_csv(csv_file)\n",
    "logo_link = 'https://assets.datacamp.com/production/repositories/5893/datasets/2bac9433b0e904735feefa26ca913fba187c0d55/e_com_logo.png'\n",
    "ecom_bar = ecom_sales.groupby('Country')['OrderValue'].agg('sum').reset_index(name='Total Sales ($)').sort_values(by='Total Sales ($)', ascending=False)\n",
    "top_country = ecom_bar.loc[0]['Country']\n",
    "bar_fig_country = px.bar(ecom_bar, x='Total Sales ($)', y='Country', color='Country', color_discrete_map={'United Kingdom':'lightblue', 'Germany':'orange', 'France':'darkblue', 'Australia':'green', 'Hong Kong':'red'})\n",
    "\n",
    "app = dash.Dash(__name__)\n",
    "\n",
    "app.layout = html.Div([\n",
    "  # Add the company logo\n",
    "  html.Img(src=logo_link),\n",
    "  html.H1('Sales by Country'),\n",
    "  html.Div(dcc.Graph(figure=bar_fig_country),\n",
    "           style={'width':'750px', 'margin':'auto'}),\n",
    "  # Add an overall text-containing component\n",
    "  html.Span(children=[\n",
    "    # Add the top country text\n",
    "    'This year, the most sales came from: ',\n",
    "    html.B(top_country),\n",
    "    # Italicize copyright notice\n",
    "    html.I(' Copyright E-Com INC')])\n",
    "    ],\n",
    "  style={'text-align':'center', 'font-size':22})\n",
    "\n",
    "if __name__ == '__main__':\n",
    "    app.run_server(debug=True)\n"
   ]
  },
  {
   "cell_type": "markdown",
   "id": "0133c581",
   "metadata": {},
   "source": [
    "### Adding an HTML list to Dash"
   ]
  },
  {
   "cell_type": "raw",
   "id": "7c9320fc",
   "metadata": {},
   "source": [
    "import dash\n",
    "from dash import dcc\n",
    "from dash import html\n",
    "import plotly.express as px\n",
    "import pandas as pd\n",
    "ecom_sales = pd.read_csv(csv_file)\n",
    "logo_link = 'https://assets.datacamp.com/production/repositories/5893/datasets/2bac9433b0e904735feefa26ca913fba187c0d55/e_com_logo.png'\n",
    "ecom_category = ecom_sales.groupby(['Major Category','Minor Category']).size().reset_index(name='Total Orders').sort_values(by='Total Orders', ascending=False).reset_index(drop=True)\n",
    "num1_cat, num1_salesvol = ecom_category.loc[0].tolist()[1:3]\n",
    "num2_cat, num2_salesvol = ecom_category.loc[1].tolist()[1:3]\n",
    "ecom_bar = px.bar(ecom_category, x='Total Orders', y='Minor Category', color='Major Category')\n",
    "ecom_bar.update_layout({'yaxis':{'dtick':1, 'categoryorder':'total ascending'}})\n",
    "\n",
    "app = dash.Dash(__name__)\n",
    "\n",
    "app.layout = html.Div([\n",
    "    html.Img(src=logo_link),\n",
    "    html.H1('Top Sales Categories'),\n",
    "    html.Div(dcc.Graph(figure=ecom_bar)),\n",
    "    html.Span(children=[\n",
    "    'The top 2 sales categories were:',\n",
    "    # Set up an ordered list\n",
    "    html.Ol(children=[\n",
    "      \t# Add two list elements with the top category variables\n",
    "        html.Li(children=[num1_cat, ' with ', num1_salesvol, ' sales volume']),\n",
    "        html.Li(children=[num2_cat, ' with ', num2_salesvol, ' sales volume'])\n",
    "    ], style={'width':'350px', 'margin':'auto'}),\n",
    "    # Add a line break before the copyright notice\n",
    "    html.Br(),\n",
    "    html.I('Copyright E-Com INC')])\n",
    "    ], style={'text-align':'center', 'font-size':22})\n",
    "\n",
    "if __name__ == '__main__':\n",
    "    app.run_server(debug=True)"
   ]
  },
  {
   "cell_type": "markdown",
   "id": "4127dae5",
   "metadata": {},
   "source": [
    "### Styling a Dash app with CSS"
   ]
  },
  {
   "cell_type": "raw",
   "id": "e6f4dac6",
   "metadata": {},
   "source": [
    "import dash\n",
    "from dash import dcc\n",
    "from dash import html\n",
    "import plotly.express as px\n",
    "import pandas as pd\n",
    "ecom_sales = pd.read_csv(csv_file)\n",
    "logo_link = 'https://assets.datacamp.com/production/repositories/5893/datasets/2bac9433b0e904735feefa26ca913fba187c0d55/e_com_logo.png'\n",
    "ecom_category = ecom_sales.groupby(['Major Category','Minor Category']).size().reset_index(name='Total Orders').sort_values(by='Total Orders', ascending=False).reset_index(drop=True)\n",
    "top_cat = ecom_category.loc[0]['Minor Category']\n",
    "ecom_bar = px.bar(ecom_category, x='Total Orders', y='Minor Category', color='Major Category')\n",
    "ecom_bar.update_layout({'yaxis':{'dtick':1, 'categoryorder':'total ascending'}, 'paper_bgcolor':'rgb(224, 255, 252)'})\n",
    "\n",
    "app = dash.Dash(__name__)\n",
    "\n",
    "app.layout = html.Div([\n",
    "    html.Img(src=logo_link,\n",
    "    # Set the size of the logo\n",
    "    style={'width':'215px', 'height':'240px'}\n",
    "    ),\n",
    "    html.H1('Top Sales Categories'),\n",
    "    # Set the size of the bar graph\n",
    "    html.Div(dcc.Graph(figure=ecom_bar,\n",
    "                       style={'width':'500px', 'height':'350px', 'margin':'auto'}),\n",
    "    ),\n",
    "    html.Br(),\n",
    "    html.Span(children=[\n",
    "    'The top category was: ',\n",
    "    html.B(top_cat),\n",
    "    html.Br(),\n",
    "    html.I('Copyright E-Com INC',\n",
    "    # Add a background color to the copyright notice\n",
    "    style={'background-color':'lightgrey'})])\n",
    "    # Add a background color to the entire app\n",
    "    ], style={'text-align':'center', 'font-size':22, 'background-color':'rgb(224,255,252)'})\n",
    "\n",
    "if __name__ == '__main__':\n",
    "    app.run_server(debug=True)"
   ]
  },
  {
   "cell_type": "markdown",
   "id": "3daad7dd",
   "metadata": {},
   "source": [
    "### Switching to Darkmode"
   ]
  },
  {
   "cell_type": "raw",
   "id": "376d22c9",
   "metadata": {},
   "source": [
    "import dash\n",
    "from dash import dcc\n",
    "from dash import html\n",
    "import plotly.express as px\n",
    "import pandas as pd\n",
    "ecom_sales = pd.read_csv(csv_file)\n",
    "logo_link = 'https://assets.datacamp.com/production/repositories/5893/datasets/1c95273e21a54b5ca48e0b03cc0c1faeafb3d7cd/e-comlogo_white.png'\n",
    "ecom_category = ecom_sales.groupby(['Major Category','Minor Category']).size().reset_index(name='Total Orders').sort_values(by='Total Orders', ascending=False).reset_index(drop=True)\n",
    "top_cat = ecom_category.loc[0]['Minor Category']\n",
    "ecom_bar = px.bar(ecom_category, x='Total Orders', y='Minor Category', color='Major Category')\n",
    "\n",
    "# Set the font color of the bar chart\n",
    "ecom_bar.update_layout({'yaxis':{'dtick':1, 'categoryorder':'total ascending'}, 'paper_bgcolor':'black', 'font': {'color':'white'}})\n",
    "\n",
    "app = dash.Dash(__name__)\n",
    "\n",
    "app.layout = html.Div([\n",
    "    # Set the new white-text image\n",
    "    html.Img(src=logo_link,\n",
    "    style={'width':'165px', 'height':'50px'}),\n",
    "    html.H1('Top Sales Categories'),\n",
    "    html.Div(dcc.Graph(figure=ecom_bar,style={'width':'500px', 'height':'350px', 'margin':'auto'})),\n",
    "    html.Br(),\n",
    "    html.Span(children=[\n",
    "    'The top category was: ',\n",
    "    html.B(top_cat),\n",
    "    html.Br(),\n",
    "    html.I('Copyright E-Com INC')])\n",
    "    ], style={'text-align':'center', 'font-size':22,\n",
    "              # Update the background color to the entire app\n",
    "              'background-color':'black',\n",
    "              # Change the text color for the whole app\n",
    "              'color':'white'\n",
    "               })\n",
    "\n",
    "if __name__ == '__main__':\n",
    "    app.run_server(debug=True)"
   ]
  },
  {
   "cell_type": "markdown",
   "id": "55cafe7d",
   "metadata": {},
   "source": [
    "### A refined sales dashboard"
   ]
  },
  {
   "cell_type": "raw",
   "id": "02800a04",
   "metadata": {},
   "source": [
    "import dash\n",
    "from dash import dcc\n",
    "from dash import html\n",
    "import plotly.express as px\n",
    "import pandas as pd\n",
    "logo_link = 'https://assets.datacamp.com/production/repositories/5893/datasets/fdbe0accd2581a0c505dab4b29ebb66cf72a1803/e-comlogo.png'\n",
    "ecom_sales = pd.read_csv(csv_file)\n",
    "ecom_line = ecom_sales.groupby('Year-Month')['OrderValue'].agg('sum').reset_index(name='TotalSales')\n",
    "line_fig = px.line(data_frame=ecom_line, x='Year-Month', y='TotalSales',title='Total Sales by Month')\n",
    "line_fig.update_layout({'paper_bgcolor':'rgb(224, 255, 252)' }) \n",
    "ecom_bar = ecom_sales.groupby('Country')['OrderValue'].agg('sum').reset_index(name='TotalSales')\n",
    "bar_fig = px.bar(data_frame=ecom_bar, x='TotalSales', y='Country', orientation='h',title='Total Sales by Country')\n",
    "bar_fig.update_layout({'yaxis':{'dtick':1, 'categoryorder':'total ascending'}, 'paper_bgcolor':'rgb(224, 255, 252)'}) \n",
    "\n",
    "app = dash.Dash(__name__)\n",
    "\n",
    "app.layout = html.Div(children=[\n",
    "    html.Div(children=[\n",
    "      html.Img(src=logo_link, \n",
    "               # Place the logo side-by-side the H1 with required margin\n",
    "               style={'display':'inline-block', 'margin':'25px'}),\n",
    "      html.H1(children=['Sales Figures'],\n",
    "              # Make the H1 side-by-side with the logos\n",
    "              style={'display':'inline-block'}), \n",
    "      html.Img(src=logo_link,\n",
    "               # Place the logo side-by-side the H1 with required margin\n",
    "               style={'display':'inline-block', 'margin':'25px'})]),\n",
    "    html.Div(\n",
    "        dcc.Graph(figure=line_fig), \n",
    "        # Ensure graphs are correct size, side-by-side with required margin\n",
    "        style={'width':'500px', 'display':'inline-block', 'margin':'5px'}), \n",
    "    html.Div(\n",
    "      \tdcc.Graph(figure=bar_fig),\n",
    "        # Ensure graphs are correct size, side-by-side with required margin\n",
    "    \tstyle={'width':'350px', 'display':'inline-block', 'margin':'5px'}), \n",
    "    html.H3(f'The largest order quantity was {ecom_sales.Quantity.max()}')\n",
    "    ],style={'text-align':'center', 'font-size':22, 'background-color':'rgb(224, 255, 252)'})\n",
    "\n",
    "if __name__ == '__main__':\n",
    "    app.run_server(debug=True)"
   ]
  },
  {
   "cell_type": "markdown",
   "id": "6c15f5c6",
   "metadata": {},
   "source": [
    "### Controlling object layout"
   ]
  },
  {
   "cell_type": "raw",
   "id": "cf7c0771",
   "metadata": {},
   "source": [
    "import dash\n",
    "from dash import dcc\n",
    "from dash import html\n",
    "import plotly.express as px\n",
    "import pandas as pd\n",
    "ecom_sales = pd.read_csv(csv_file)\n",
    "logo_link = 'https://assets.datacamp.com/production/repositories/5893/datasets/fdbe0accd2581a0c505dab4b29ebb66cf72a1803/e-comlogo.png'\n",
    "ecom_bar_major_cat = ecom_sales.groupby('Major Category')['OrderValue'].agg('sum').reset_index(name='Total Sales ($)')\n",
    "ecom_bar_minor_cat = ecom_sales.groupby('Minor Category')['OrderValue'].agg('sum').reset_index(name='Total Sales ($)')\n",
    "bar_fig_major_cat = px.bar(ecom_bar_major_cat, x='Total Sales ($)', y='Major Category', color='Major Category', color_discrete_map={'Clothes':'blue','Kitchen':'red','Garden':'green','Household':'yellow'})\n",
    "bar_fig_minor_cat = px.bar(ecom_bar_minor_cat, x='Total Sales ($)', y='Minor Category')                    \n",
    "\n",
    "app = dash.Dash(__name__)\n",
    "\n",
    "app.layout = html.Div([\n",
    "  html.Img(src=logo_link,\n",
    "        # Add margin to the logo\n",
    "        style={'margin':'30px 0px 0px 0px'}),\n",
    "  html.H1('Sales breakdowns'),\n",
    "  html.Div(children=[\n",
    "      dcc.Graph(\n",
    "        # Style the graphs to appear side-by-side\n",
    "        figure=bar_fig_major_cat,\n",
    "        style={'display':'inline-block'}),\n",
    "      dcc.Graph(\n",
    "        figure=bar_fig_minor_cat,\n",
    "        style={'display':'inline-block'}),\n",
    "  ]),\n",
    "  html.H2('Major Category',\n",
    "        # Style the titles to appear side-by-side with a 2 pixel border\n",
    "        style={'display':'inline-block', 'border':'2px solid black',\n",
    "        # Style the titles to have the correct spacings       \n",
    "               'padding':'10px', 'margin':'10px 220px'}),\n",
    "  html.H2('Minor Category',\n",
    "        # Style the titles to appear side-by-side with a 2 pixel border\n",
    "        style={'display':'inline-block', 'border':'2px solid black',\n",
    "        # Style the titles to have the correct spacings \n",
    "               'padding':'10px', 'margin':'10px 220px'}),\n",
    "  \n",
    "  ], style={'text-align':'center', 'font-size':22})\n",
    "\n",
    "if __name__ == '__main__':\n",
    "    app.run_server(debug=True)"
   ]
  },
  {
   "cell_type": "markdown",
   "id": "e754e149",
   "metadata": {},
   "source": [
    "## Chapter 3: Interactivity with Callbacks and Components"
   ]
  },
  {
   "cell_type": "markdown",
   "id": "1d1ac4d9",
   "metadata": {},
   "source": [
    "### A dropdown for sales by country"
   ]
  },
  {
   "cell_type": "raw",
   "id": "13d07a4d",
   "metadata": {},
   "source": [
    "import dash\n",
    "from dash import dcc\n",
    "from dash import html\n",
    "import plotly.express as px\n",
    "import pandas as pd\n",
    "from dash.dependencies import Input, Output\n",
    "ecom_sales = pd.read_csv(csv_file)\n",
    "logo_link = 'https://assets.datacamp.com/production/repositories/5893/datasets/fdbe0accd2581a0c505dab4b29ebb66cf72a1803/e-comlogo.png'\n",
    "\n",
    "app = dash.Dash(__name__)\n",
    "\n",
    "app.layout = html.Div([\n",
    "  html.Img(src=logo_link,style={'margin':'30px 0px 0px 0px' }),\n",
    "  html.H1('Sales breakdowns'),\n",
    "  html.Div(\n",
    "    children=[\n",
    "    html.Div(\n",
    "        children=[\n",
    "        html.H2('Controls'),\n",
    "        html.Br(),\n",
    "        html.H3('Country Select'),\n",
    "        # Add a dropdown with identifier\n",
    "        dcc.Dropdown(id='country_dd',\n",
    "        # Set the available options with noted labels and values\n",
    "        options=[\n",
    "            {'label':'UK', 'value':'United Kingdom'},\n",
    "            {'label':'GM', 'value':'Germany'},\n",
    "            {'label':'FR', 'value':'France'},\n",
    "            {'label':'AUS', 'value':'Australia'},\n",
    "            {'label':'HK', 'value':'Hong Kong'}],\n",
    "            style={'width':'200px', 'margin':'0 auto'})\n",
    "        ],\n",
    "        style={'width':'350px', 'height':'350px', 'display':'inline-block', 'vertical-align':'top', 'border':'1px solid black', 'padding':'20px'}),\n",
    "    html.Div(children=[\n",
    "            # Add a graph component with identifier\n",
    "            dcc.Graph(id='major_cat'),\n",
    "            html.H2('Major Category', \n",
    "            style={ 'border':'2px solid black', 'width':'200px', 'margin':'0 auto'})\n",
    "            ],\n",
    "             style={'width':'700px','display':'inline-block'}\n",
    "             ),\n",
    "    ])], \n",
    "  style={'text-align':'center', 'display':'inline-block', 'width':'100%'}\n",
    "  )\n",
    "\n",
    "@app.callback(\n",
    "    # Set the input and output of the callback to link the dropdown to the graph\n",
    "    Output(component_id='major_cat', component_property='figure'),\n",
    "    Input(component_id='country_dd', component_property='value')\n",
    ")\n",
    "\n",
    "def update_plot(input_country):\n",
    "    country_filter = 'All Countries'\n",
    "    sales = ecom_sales.copy(deep=True)\n",
    "    if input_country:\n",
    "        country_filter = input_country\n",
    "        sales = sales[sales['Country'] == country_filter]\n",
    "    ecom_bar_major_cat = sales.groupby('Major Category')['OrderValue'].agg('sum').reset_index(name='Total Sales ($)')\n",
    "    bar_fig_major_cat = px.bar(\n",
    "        title=f'Sales in {country_filter}', data_frame=ecom_bar_major_cat, x='Total Sales ($)', y='Major Category', color='Major Category',\n",
    "                 color_discrete_map={'Clothes':'blue','Kitchen':'red','Garden':'green','Household':'yellow'})\n",
    "    return bar_fig_major_cat\n",
    "\n",
    "\n",
    "if __name__ == '__main__':\n",
    "    app.run_server(debug=True)"
   ]
  },
  {
   "cell_type": "markdown",
   "id": "d373ad11",
   "metadata": {},
   "source": [
    "### Fixing a broken dashboard"
   ]
  },
  {
   "cell_type": "raw",
   "id": "155dd93c",
   "metadata": {},
   "source": [
    "import dash\n",
    "from dash import dcc\n",
    "from dash import html\n",
    "import plotly.express as px\n",
    "import pandas as pd\n",
    "from dash.dependencies import Input, Output\n",
    "ecom_sales = pd.read_csv(csv_file)\n",
    "logo_link = 'https://assets.datacamp.com/production/repositories/5893/datasets/fdbe0accd2581a0c505dab4b29ebb66cf72a1803/e-comlogo.png'\n",
    "\n",
    "app = dash.Dash(__name__)\n",
    "\n",
    "app.layout = html.Div([\n",
    "  html.Img(src=logo_link,style={'margin':'30px 0px 0px 0px' }),\n",
    "  html.H1('Sales breakdowns'),\n",
    "  html.Div(\n",
    "    children=[\n",
    "    html.Div(\n",
    "        children=[\n",
    "        html.H2('Controls'),\n",
    "        html.Br(),\n",
    "        html.H3('Country Select'),\n",
    "        dcc.Dropdown(id='country_dd',\n",
    "        options=[\n",
    "            {'label':'UK', 'value':'United Kingdom'},\n",
    "            {'label':'GM', 'value':'Germany'},\n",
    "            {'label':'FR', 'value':'France'},\n",
    "            {'label':'AUS', 'value':'Australia'},\n",
    "            {'label':'HK', 'value':'Hong Kong'}],\n",
    "            style={'width':'200px', 'margin':'0 auto'})\n",
    "        ],\n",
    "        style={'width':'350px', 'height':'350px', 'display':'inline-block', 'vertical-align':'top', 'border':'1px solid black', 'padding':'20px'}),\n",
    "    html.Div(children=[\n",
    "            dcc.Graph(id='major_cat'),\n",
    "            html.H2('Major Category',\n",
    "            style={ 'border':'2px solid black', 'width':'200px', 'margin':'0 auto'})\n",
    "            ],\n",
    "             style={'width':'700px','display':'inline-block'}\n",
    "             ),\n",
    "    ])],\n",
    "  style={'text-align':'center', 'display':'inline-block', 'width':'100%'}\n",
    "  )\n",
    "@app.callback(\n",
    "    Output(component_id='major_cat', component_property='figure'),\n",
    "    Input(component_id='country_dd', component_property='value')\n",
    ")\n",
    "\n",
    "def update_plot(input_country):\n",
    "    # Set a default value\n",
    "    country_filter = 'All Countries'\n",
    "    # Ensure the DataFrame is not overwritten\n",
    "    sales = ecom_sales.copy(deep=True)\n",
    "    # Create a conditional to filter the DataFrame if the input exists\n",
    "    if input_country:\n",
    "        country_filter = input_country\n",
    "        sales = sales[sales['Country'] == country_filter]\n",
    "    ecom_bar_major_cat = sales.groupby('Major Category')['OrderValue'].agg('sum').reset_index(name='Total Sales ($)')\n",
    "    bar_fig_major_cat = px.ba(\n",
    "        title=f'Sales in {country_filter}', data_frame=ecom_bar_major_cat, x='Total Sales ($)', y='Major Category', color='Major Category',\n",
    "                 color_discrete_map={'Clothes':'blue','Kitchen':'red','Garden':'green','Household':'yellow'})\n",
    "   \t# Return the figure\n",
    "    return bar_fig_major_cat\n",
    "\n",
    "\n",
    "if __name__ == '__main__':\n",
    "    app.run_server(debug=True)"
   ]
  },
  {
   "cell_type": "markdown",
   "id": "27b27e00",
   "metadata": {},
   "source": [
    "### Date picker for sales data"
   ]
  },
  {
   "cell_type": "raw",
   "id": "c402dd37",
   "metadata": {},
   "source": [
    "import dash\n",
    "from dash import dcc\n",
    "from dash import html\n",
    "import plotly.express as px\n",
    "import pandas as pd\n",
    "from dash.dependencies import Input, Output\n",
    "from datetime import datetime, date\n",
    "ecom_sales = pd.read_csv(csv_file)\n",
    "logo_link = 'https://assets.datacamp.com/production/repositories/5893/datasets/fdbe0accd2581a0c505dab4b29ebb66cf72a1803/e-comlogo.png'\n",
    "ecom_sales['InvoiceDate'] = pd.to_datetime(ecom_sales['InvoiceDate'])\n",
    "\n",
    "app = dash.Dash(__name__)\n",
    "\n",
    "app.layout = html.Div([\n",
    "  html.Img(src=logo_link, \n",
    "        style={'margin':'30px 0px 0px 0px' }),\n",
    "  html.H1('Sales breakdowns'),\n",
    "  html.Div(\n",
    "    children=[\n",
    "    html.Div(\n",
    "        children=[\n",
    "        html.H2('Controls'),\n",
    "        html.Br(),\n",
    "        html.H3('Sale Date Select'),\n",
    "        # Create a single date picker with identifier\n",
    "        dcc.DatePickerSingle(id='sale_date',\n",
    "            # Set the min/max dates allowed as the min/max dates in the DataFrame\n",
    "            min_date_allowed=ecom_sales['InvoiceDate'].min(),\n",
    "            max_date_allowed=ecom_sales['InvoiceDate'].max(),\n",
    "            # Set the initial visible date\n",
    "            date=date(2011,4,11),\n",
    "            initial_visible_month=date(2011,4,11),\n",
    "            style={'width':'200px', 'margin':'0 auto'})\n",
    "        ],\n",
    "        style={'width':'350px', 'height':'350px', 'display':'inline-block', 'vertical-align':'top', 'border':'1px solid black', 'padding':'20px'}),\n",
    "    html.Div(children=[\n",
    "      \t\t# Add a component to render a Plotly figure with the specified id\n",
    "            dcc.Graph(id='sales_cat'),\n",
    "            html.H2('Daily Sales by Major Category', \n",
    "            style={ 'border':'2px solid black', 'width':'400px', 'margin':'0 auto'})\n",
    "            ],\n",
    "             style={'width':'700px','display':'inline-block'}\n",
    "             ),\n",
    "    ]),\n",
    "    ], \n",
    "  style={'text-align':'center', 'display':'inline-block', 'width':'100%'}\n",
    "  )\n",
    "\n",
    "@app.callback(\n",
    "    Output(component_id='sales_cat', component_property='figure'),\n",
    "    Input(component_id='sale_date', component_property='date')\n",
    ")\n",
    "def update_plot(input_date):\n",
    "    \n",
    "    sales = ecom_sales.copy(deep=True)\n",
    "    if input_date:\n",
    "        sales = sales[sales['InvoiceDate'] == input_date]\n",
    "        \n",
    "    ecom_bar_major_cat = sales.groupby('Major Category')['OrderValue'].agg('sum').reset_index(name='Total Sales ($)')\n",
    "    bar_fig_major_cat = px.bar(\n",
    "        title=f'Sales on: {input_date}',data_frame=ecom_bar_major_cat, orientation='h', \n",
    "        x='Total Sales ($)', y='Major Category')\n",
    "\n",
    "    return bar_fig_major_cat\n",
    "\n",
    "\n",
    "if __name__ == '__main__':\n",
    "    app.run_server(debug=True)"
   ]
  },
  {
   "cell_type": "markdown",
   "id": "2ffc111d",
   "metadata": {},
   "source": [
    "### A date picker callback"
   ]
  },
  {
   "cell_type": "raw",
   "id": "80fbc978",
   "metadata": {},
   "source": [
    "import dash\n",
    "from dash import dcc\n",
    "from dash import html\n",
    "import plotly.express as px\n",
    "import pandas as pd\n",
    "from dash.dependencies import Input, Output\n",
    "from datetime import datetime, date\n",
    "ecom_sales = pd.read_csv(csv_file)\n",
    "logo_link = 'https://assets.datacamp.com/production/repositories/5893/datasets/fdbe0accd2581a0c505dab4b29ebb66cf72a1803/e-comlogo.png'\n",
    "ecom_sales['InvoiceDate'] = pd.to_datetime(ecom_sales['InvoiceDate'])\n",
    "\n",
    "app = dash.Dash(__name__)\n",
    "\n",
    "app.layout = html.Div([\n",
    "  html.Img(src=logo_link, \n",
    "        style={'margin':'30px 0px 0px 0px' }),\n",
    "  html.H1('Sales breakdowns'),\n",
    "  html.Div(\n",
    "    children=[\n",
    "    html.Div(\n",
    "        children=[\n",
    "        html.H2('Controls'),\n",
    "        html.Br(),\n",
    "        html.H3('Sale Date Select'),\n",
    "        dcc.DatePickerSingle(id='sale_date',\n",
    "            min_date_allowed=ecom_sales['InvoiceDate'].min(),\n",
    "            max_date_allowed=ecom_sales['InvoiceDate'].max(),\n",
    "            initial_visible_month=date(2011,4,1),\n",
    "            date=date(2011,4,11),\n",
    "            style={'width':'200px', 'margin':'0 auto'})\n",
    "        ],\n",
    "        style={'width':'350px', 'height':'350px', 'display':'inline-block', 'vertical-align':'top', 'border':'1px solid black', 'padding':'20px'}),\n",
    "    html.Div(children=[\n",
    "            dcc.Graph(id='sales_cat'),\n",
    "            html.H2('Daily Sales by Major Category', \n",
    "            style={ 'border':'2px solid black', 'width':'400px', 'margin':'0 auto'})\n",
    "            ],\n",
    "             style={'width':'700px','display':'inline-block'}\n",
    "             ),\n",
    "    ]),\n",
    "    ], \n",
    "  style={'text-align':'center', 'display':'inline-block', 'width':'100%'}\n",
    "  )\n",
    "# Create a callback and link\n",
    "@app.callback(\n",
    "    Output(component_id='sales_cat', component_property='figure'),\n",
    "    Input(component_id='sale_date', component_property='date')\n",
    ")\n",
    "def update_plot(input_date):\n",
    "    # Ensure the DataFrame is not overwritten\n",
    "    sales = ecom_sales.copy(deep=True)\n",
    "    \n",
    "\t# Conditionally filter the DataFrame using the input\n",
    "    if input_date:\n",
    "        sales = sales[sales['InvoiceDate'] == input_date]\n",
    "        \n",
    "    ecom_bar_major_cat = sales.groupby('Major Category')['OrderValue'].agg('sum').reset_index(name='Total Sales ($)')\n",
    "    bar_fig_major_cat = px.bar(\n",
    "        title=f'Sales on: {input_date}',data_frame=ecom_bar_major_cat, orientation='h', \n",
    "        x='Total Sales ($)', y='Major Category')\n",
    "\t\n",
    "    # Return the figure to render\n",
    "    return bar_fig_major_cat\n",
    "\n",
    "\n",
    "if __name__ == '__main__':\n",
    "    app.run_server(debug=True)"
   ]
  },
  {
   "cell_type": "markdown",
   "id": "441fd4fa",
   "metadata": {},
   "source": [
    "### Slider for sales data"
   ]
  },
  {
   "cell_type": "raw",
   "id": "52294435",
   "metadata": {},
   "source": [
    "import dash\n",
    "from dash import dcc\n",
    "from dash import html\n",
    "import plotly.express as px\n",
    "import pandas as pd\n",
    "from dash.dependencies import Input, Output\n",
    "ecom_sales = pd.read_csv(csv_file)\n",
    "logo_link = 'https://assets.datacamp.com/production/repositories/5893/datasets/fdbe0accd2581a0c505dab4b29ebb66cf72a1803/e-comlogo.png'\n",
    "\n",
    "app = dash.Dash(__name__)\n",
    "\n",
    "app.layout = html.Div([\n",
    "  html.Img(src=logo_link, \n",
    "        style={'margin':'30px 0px 0px 0px' }),\n",
    "  html.H1('Sales breakdowns'),\n",
    "  html.Div(\n",
    "    children=[\n",
    "    html.Div(\n",
    "        children=[\n",
    "        html.H2('Controls'),\n",
    "        html.Br(),\n",
    "        html.H3('Minimum OrderValue Select'),\n",
    "        # Add a slider input\n",
    "        dcc.Slider(id='value_slider',\n",
    "            # Set the min and max of the slider\n",
    "            min=ecom_sales['OrderValue'].min(),\n",
    "            max=ecom_sales['OrderValue'].max(),\n",
    "            # Start the slider at 0\n",
    "            value=0,\n",
    "            # Increment the slider by 50 each notch\n",
    "            step=50,\n",
    "            vertical=False)\n",
    "        ],\n",
    "        style={'width':'350px', 'height':'350px', 'display':'inline-block', 'vertical-align':'top', 'border':'1px solid black', 'padding':'20px'}),\n",
    "    html.Div(children=[\n",
    "            dcc.Graph(id='sales_cat'),\n",
    "            html.H2('Sales by Major Category', \n",
    "            style={ 'border':'2px solid black', 'width':'400px', 'margin':'0 auto'})\n",
    "            ],\n",
    "             style={'width':'700px','display':'inline-block'}\n",
    "             ),\n",
    "    ]),\n",
    "    ], \n",
    "  style={'text-align':'center', 'display':'inline-block', 'width':'100%'}\n",
    "  )\n",
    "\n",
    "\n",
    "@app.callback(\n",
    "    Output(component_id='sales_cat', component_property='figure'),\n",
    "    Input(component_id='value_slider', component_property='value')\n",
    ")\n",
    "def update_plot(min_val):\n",
    "    \n",
    "    sales = ecom_sales.copy(deep=True)\n",
    "\n",
    "    if min_val:\n",
    "        sales = sales[sales['OrderValue'] >= min_val]\n",
    "\n",
    "    ecom_bar_major_cat = sales.groupby('Major Category')['OrderValue'].size().reset_index(name='Total Sales Volume')\n",
    "\n",
    "    bar_fig_major_cat = px.bar(\n",
    "        title=f'Sales with order value: {min_val}',data_frame=ecom_bar_major_cat, orientation='h', \n",
    "        x='Total Sales Volume', y='Major Category')\n",
    "\n",
    "    return bar_fig_major_cat\n",
    "\n",
    "\n",
    "if __name__ == '__main__':\n",
    "    app.run_server(debug=True)"
   ]
  },
  {
   "cell_type": "markdown",
   "id": "a0bb7a61",
   "metadata": {},
   "source": [
    "### Re-using Dash components"
   ]
  },
  {
   "cell_type": "raw",
   "id": "69a14530",
   "metadata": {},
   "source": [
    "import dash\n",
    "from dash import dcc\n",
    "from dash import html\n",
    "import plotly.express as px\n",
    "import pandas as pd\n",
    "from dash.dependencies import Input, Output\n",
    "from datetime import datetime, date\n",
    "ecom_sales = pd.read_csv(csv_file)\n",
    "logo_link = 'https://assets.datacamp.com/production/repositories/5893/datasets/fdbe0accd2581a0c505dab4b29ebb66cf72a1803/e-comlogo.png'\n",
    "ecom_sales['InvoiceDate'] = pd.to_datetime(ecom_sales['InvoiceDate'])\n",
    "\n",
    "app = dash.Dash(__name__)\n",
    "\n",
    "# Create a reusable component function called add_logo\n",
    "def add_logo():\n",
    "    # Add a component that will render an image\n",
    "    corp_logo = html.Img(\n",
    "        src=logo_link, \n",
    "        # Add the corporate styling\n",
    "        style={'margin':'20px 20px 5px 5px', 'border':'1px dashed lightblue', 'display':'inline-block'})\n",
    "    \n",
    "    return corp_logo\n",
    "\n",
    "app.layout = html.Div([\n",
    "  # Insert the logo (1)\n",
    "  add_logo(),\n",
    "  html.Br(),\n",
    "  html.H1('Sales breakdowns'),\n",
    "  html.Br(),\n",
    "  html.Br(),\n",
    "  html.Div(\n",
    "    children=[\n",
    "    html.Div(\n",
    "        children=[\n",
    "        # Insert the logo (2)\n",
    "        add_logo(),\n",
    "        html.H2('Controls', style={'margin':'0 10px','display':'inline-block'}),\n",
    "        # Insert the logo (3)\n",
    "        add_logo(),\n",
    "        html.H3('Sale Date Select'),\n",
    "        html.Br(),\n",
    "        dcc.DatePickerSingle(\n",
    "            id='sale_date',\n",
    "            min_date_allowed=ecom_sales.InvoiceDate.min(),\n",
    "            max_date_allowed=ecom_sales.InvoiceDate.max(),\n",
    "            initial_visible_month=date(2011,4,1),\n",
    "            date=date(2011,4,11),\n",
    "            style={'width':'200px', 'margin':'0 auto'}),\n",
    "        ],\n",
    "        style={'width':'550px', 'height':'350px', 'display':'inline-block', 'vertical-align':'top', 'border':'1px solid black', 'padding':'20px'}),\n",
    "    html.Div(children=[\n",
    "            dcc.Graph(id='sales_cat'),\n",
    "            html.H2('Daily Sales by Major Category', \n",
    "            style={ 'border':'2px solid black', 'width':'400px', 'margin':'0 auto'})\n",
    "            ],\n",
    "             style={'width':'700px','display':'inline-block'}\n",
    "             ),\n",
    "    ]),\n",
    "  \t# Insert the logo (4)\n",
    "    add_logo(),\n",
    "    ], \n",
    "  style={'text-align':'center', 'display':'inline-block', 'width':'100%'}\n",
    "  )\n",
    "\n",
    "@app.callback(\n",
    "    Output(component_id='sales_cat', component_property='figure'),\n",
    "    Input(component_id='sale_date', component_property='date')\n",
    ")\n",
    "def update_plot(input_date):\n",
    "    \n",
    "    sales = ecom_sales.copy(deep=True)\n",
    "\n",
    "    if input_date:\n",
    "        sales = sales[sales['InvoiceDate'] == input_date]\n",
    "\n",
    "    ecom_bar_major_cat = sales.groupby('Major Category')['OrderValue'].agg('sum').reset_index(name='Total Sales ($)')\n",
    "\n",
    "    bar_fig_major_cat = px.bar(\n",
    "        title=f'Sales on: {input_date}',data_frame=ecom_bar_major_cat, orientation='h', \n",
    "        x='Total Sales ($)', y='Major Category')\n",
    "\n",
    "    return bar_fig_major_cat\n",
    "\n",
    "\n",
    "if __name__ == '__main__':\n",
    "    app.run_server(debug=True)"
   ]
  },
  {
   "cell_type": "markdown",
   "id": "5f092578",
   "metadata": {},
   "source": [
    "### DRY-styling Dash components"
   ]
  },
  {
   "cell_type": "raw",
   "id": "2acded37",
   "metadata": {},
   "source": [
    "import dash\n",
    "from dash import dcc\n",
    "from dash import html\n",
    "import plotly.express as px\n",
    "import pandas as pd\n",
    "from dash.dependencies import Input, Output\n",
    "from datetime import datetime, date\n",
    "ecom_sales = pd.read_csv(csv_file)\n",
    "logo_link = 'https://assets.datacamp.com/production/repositories/5893/datasets/fdbe0accd2581a0c505dab4b29ebb66cf72a1803/e-comlogo.png'\n",
    "ecom_sales['InvoiceDate'] = pd.to_datetime(ecom_sales['InvoiceDate'])\n",
    "\n",
    "app = dash.Dash(__name__)\n",
    "\n",
    "def make_break(num_breaks):\n",
    "    br_list = [html.Br()] * num_breaks\n",
    "    return br_list\n",
    "\n",
    "def add_logo():\n",
    "    corp_logo = html.Img(\n",
    "        src=logo_link, \n",
    "        style={'margin':'20px 20px 5px 5px',\n",
    "              'border':'1px dashed lightblue',\n",
    "              'display':'inline-block'})\n",
    "    return corp_logo\n",
    "\n",
    "# Create a function to add corporate styling\n",
    "def style_c():\n",
    "    layout_style={'display':'inline-block','margin':'0 auto','padding':'20px'}\n",
    "    return layout_style\n",
    "\n",
    "app.layout = html.Div([\n",
    "  add_logo(),\n",
    "  # Insert two HTML breaks\n",
    "  *make_break(2),\n",
    "  html.H1('Sales breakdowns'),\n",
    "  # Insert three HTML breaks\n",
    "  *make_break(3),\n",
    "  html.Div(\n",
    "    children=[\n",
    "    html.Div(\n",
    "        children=[\n",
    "        add_logo(),\n",
    "        # Style using the styling function\n",
    "        html.H2('Controls', style=style_c()),\n",
    "        add_logo(),\n",
    "        html.H3('Sale Date Select'),\n",
    "        # Insert two HTML breaks\n",
    "        *make_break(2),\n",
    "        dcc.DatePickerSingle(\n",
    "            id='sale_date',\n",
    "            min_date_allowed=ecom_sales.InvoiceDate.min(),\n",
    "            max_date_allowed=ecom_sales.InvoiceDate.max(),\n",
    "            initial_visible_month=date(2011,4,1),\n",
    "            date=date(2011,4,11),\n",
    "          \t# Add styling using the styling function\n",
    "            style={'width':'200px'}.update(style_c())),\n",
    "        ],\n",
    "        style={'width':'550px', 'height':'350px', 'vertical-align':'top', 'border':'1px solid black',\n",
    "        'display':'inline-block', 'margin':'0px 40px'}),\n",
    "    html.Div(children=[\n",
    "            dcc.Graph(id='sales_cat'),\n",
    "            html.H2('Daily Sales by Major Category', \n",
    "            style={ 'border':'2px solid black', 'width':'400px', 'margin':'0 auto'})\n",
    "            ],\n",
    "             style={'width':'700px','display':'inline-block'}\n",
    "             ),\n",
    "    ]),\n",
    "    add_logo(),\n",
    "    ], \n",
    "  style={'text-align':'center', 'display':'inline-block', 'width':'100%'}\n",
    "  )\n",
    "\n",
    "@app.callback(\n",
    "    Output(component_id='sales_cat', component_property='figure'),\n",
    "    Input(component_id='sale_date', component_property='date')\n",
    ")\n",
    "def update_plot(input_date):\n",
    "    \n",
    "    sales = ecom_sales.copy(deep=True)\n",
    "\n",
    "    if input_date:\n",
    "        sales = sales[sales['InvoiceDate'] == input_date]\n",
    "\n",
    "    ecom_bar_major_cat = sales.groupby('Major Category')['OrderValue'].agg('sum').reset_index(name='Total Sales ($)')\n",
    "\n",
    "    bar_fig_major_cat = px.bar(\n",
    "        title=f'Sales on: {input_date}',data_frame=ecom_bar_major_cat, orientation='h', \n",
    "        x='Total Sales ($)', y='Major Category')\n",
    "\n",
    "    return bar_fig_major_cat\n",
    "\n",
    "\n",
    "if __name__ == '__main__':\n",
    "    app.run_server(debug=True)"
   ]
  },
  {
   "cell_type": "markdown",
   "id": "90eff7cc",
   "metadata": {},
   "source": [
    "### Searching product descriptions"
   ]
  },
  {
   "cell_type": "raw",
   "id": "1676cc12",
   "metadata": {},
   "source": [
    "import dash\n",
    "from dash import dcc\n",
    "from dash import html\n",
    "import plotly.express as px\n",
    "import pandas as pd\n",
    "from dash.dependencies import Input, Output\n",
    "from datetime import datetime, date\n",
    "ecom_sales = pd.read_csv(csv_file)\n",
    "logo_link = 'https://assets.datacamp.com/production/repositories/5893/datasets/fdbe0accd2581a0c505dab4b29ebb66cf72a1803/e-comlogo.png'\n",
    "\n",
    "def make_break(num_breaks):\n",
    "    br_list = [html.Br()] * num_breaks\n",
    "    return br_list\n",
    "\n",
    "def add_logo():\n",
    "    corp_logo = html.Img(\n",
    "        src=logo_link, \n",
    "        style={'margin':'20px 20px 5px 5px',\n",
    "              'border':'1px dashed lightblue',\n",
    "              'display':'inline-block'})\n",
    "    return corp_logo\n",
    "\n",
    "def style_c():\n",
    "    layout_style={\n",
    "        'display':'inline-block',\n",
    "        'margin':'0 auto',\n",
    "        'padding':'20px',\n",
    "    }\n",
    "    return layout_style\n",
    "  \n",
    "app = dash.Dash(__name__)\n",
    "\n",
    "app.layout = html.Div([\n",
    "  add_logo(),\n",
    "  *make_break(2),\n",
    "  html.H1('Sales Dashboard'),\n",
    "  *make_break(3),\n",
    "  html.Div(\n",
    "    children=[\n",
    "    html.Div(\n",
    "        children=[\n",
    "        html.H2('Controls', style=style_c()),\n",
    "        html.H3('Search Descriptions'),\n",
    "        *make_break(2),\n",
    "        # Add the required input\n",
    "        dcc.Input(id='search_desc', type='text', \n",
    "        placeholder='Filter Product Descriptions',\n",
    "        # Ensure input is triggered with 'Enter'\n",
    "        debounce=True,\n",
    "        # Ensure the plot can load without a selection\n",
    "        required=False,\n",
    "        style={'width':'200px', 'height':'30px'})\n",
    "        ],\n",
    "        style={'width':'350px', 'height':'350px', 'vertical-align':'top', 'border':'1px solid black',\n",
    "        'display':'inline-block', 'margin':'0px 80px'}),\n",
    "    html.Div(children=[\n",
    "            dcc.Graph(id='sales_desc'),\n",
    "            html.H2('Sales Quantity by Country', \n",
    "            style={ 'border':'2px solid black', 'width':'400px', 'margin':'0 auto'})\n",
    "            ],\n",
    "             style={'width':'700px','display':'inline-block'}\n",
    "             ),\n",
    "    ])\n",
    "    ], \n",
    "  style={'text-align':'center', 'display':'inline-block', 'width':'100%'}\n",
    "  )\n",
    "\n",
    "@app.callback(\n",
    "    Output(component_id='sales_desc', component_property='figure'),\n",
    "    Input(component_id='search_desc', component_property='value')\n",
    ")\n",
    "def update_plot(search_value):\n",
    "    title_value = 'None Selected (Showing all)'\n",
    "\n",
    "    sales = ecom_sales.copy(deep=True)\n",
    "\n",
    "    # Undertake the filter here using the user input\n",
    "    if search_value:\n",
    "        sales = sales[sales['Description'].str.contains(search_value, case=False)]\n",
    "        title_value = search_value\n",
    "\n",
    "    fig = px.scatter(data_frame=sales, \n",
    "                    y='OrderValue', x='Quantity', color='Country',title=f'Sales with description text: {title_value}')\n",
    "\n",
    "    return fig\n",
    "\n",
    "\n",
    "if __name__ == '__main__':\n",
    "    app.run_server(debug=True)"
   ]
  },
  {
   "cell_type": "markdown",
   "id": "a4cc7814",
   "metadata": {},
   "source": [
    "### Analyzing top customer locations"
   ]
  },
  {
   "cell_type": "raw",
   "id": "ce6c99de",
   "metadata": {},
   "source": [
    "import dash\n",
    "from dash import dcc\n",
    "from dash import html\n",
    "import plotly.express as px\n",
    "import pandas as pd\n",
    "from dash.dependencies import Input, Output\n",
    "from datetime import datetime, date\n",
    "ecom_sales = pd.read_csv(csv_file)\n",
    "logo_link = 'https://assets.datacamp.com/production/repositories/5893/datasets/fdbe0accd2581a0c505dab4b29ebb66cf72a1803/e-comlogo.png'\n",
    "\n",
    "def make_break(num_breaks):\n",
    "    br_list = [html.Br()] * num_breaks\n",
    "    return br_list\n",
    "\n",
    "def add_logo():\n",
    "    corp_logo = html.Img(\n",
    "        src=logo_link, \n",
    "        style={'margin':'20px 20px 5px 5px',\n",
    "              'border':'1px dashed lightblue',\n",
    "              'display':'inline-block'})\n",
    "    return corp_logo\n",
    "\n",
    "def style_c():\n",
    "    layout_style={\n",
    "        'display':'inline-block',\n",
    "        'margin':'0 auto',\n",
    "        'padding':'20px',\n",
    "    }\n",
    "    return layout_style\n",
    "\n",
    "app = dash.Dash(__name__)\n",
    "\n",
    "app.layout = html.Div([\n",
    "  add_logo(),\n",
    "  *make_break(2),\n",
    "  html.H1('Sales Dashboard'),\n",
    "  *make_break(3),\n",
    "  html.Div(\n",
    "    children=[\n",
    "    html.Div(\n",
    "        children=[\n",
    "        html.H2('Controls', style=style_c()),\n",
    "        html.H3('Set minimum OrderValue'),\n",
    "        *make_break(2),\n",
    "        dcc.Input(\n",
    "          # Create the specified input\n",
    "          id='min_order_val', type='range', \n",
    "          min=50, max=550, value=50,\n",
    "          # Ensure the callback is triggered only when the user stops moving the slider\n",
    "          debounce=False,\n",
    "        style={'width':'300px', 'height':'30px'})\n",
    "        ],\n",
    "        style={'width':'350px', 'height':'350px', 'vertical-align':'top', 'border':'1px solid black',\n",
    "        'display':'inline-block', 'margin':'0px 80px'}),\n",
    "    html.Div(children=[\n",
    "            dcc.Graph(id='sales_country'),\n",
    "            html.H2('Sales Quantity by Country', \n",
    "            style={ 'border':'2px solid black', 'width':'400px', 'margin':'0 auto'})\n",
    "            ],\n",
    "             style={'width':'700px','display':'inline-block'}\n",
    "             ),\n",
    "    ])\n",
    "    ], \n",
    "  style={'text-align':'center', 'display':'inline-block', 'width':'100%'}\n",
    "  )\n",
    "\n",
    "@app.callback(\n",
    "    Output(component_id='sales_country', component_property='figure'), \n",
    "    Input(component_id='min_order_val', component_property='value'))\n",
    "\n",
    "def update_plot(input_val):\n",
    "  \n",
    "    if not input_val:\n",
    "      input_val = 0\n",
    "  \n",
    "    sales = ecom_sales.copy(deep=True)\n",
    "\n",
    "    # Check for input then use to subset data\n",
    "    if input_val:\n",
    "        input_val = round(float(input_val), 2)\n",
    "        sales = sales[sales['OrderValue'] > input_val]\n",
    "    \n",
    "    fig = px.scatter(data_frame=sales, y='OrderValue', height=400,\n",
    "                     x='Quantity', color='Country',\n",
    "\t\t\t\t\t # Set the conditional title\n",
    "                     title=f'Orders of Min Value ${input_val}')\n",
    "    return fig\n",
    "      \n",
    "if __name__ == '__main__':\n",
    "    app.run_server(debug=True)"
   ]
  },
  {
   "cell_type": "markdown",
   "id": "b6e14cfb",
   "metadata": {},
   "source": [
    "## Chapter 4: Advanced Dash Apps"
   ]
  },
  {
   "cell_type": "markdown",
   "id": "50631697",
   "metadata": {},
   "source": [
    "### Generate key stats on hover"
   ]
  },
  {
   "cell_type": "raw",
   "id": "13e1a715",
   "metadata": {},
   "source": [
    "import dash\n",
    "from dash import dcc\n",
    "from dash import html\n",
    "import plotly.express as px\n",
    "import pandas as pd\n",
    "from dash.dependencies import Input, Output\n",
    "ecom_sales = pd.read_csv(csv_file)\n",
    "logo_link = 'https://assets.datacamp.com/production/repositories/5893/datasets/fdbe0accd2581a0c505dab4b29ebb66cf72a1803/e-comlogo.png'\n",
    "ecom_country = ecom_sales.groupby('Country')['OrderValue'].agg(['sum', 'count']).reset_index().rename(columns={'count':'Sales Volume', 'sum':'Total Sales ($)'})\n",
    "\n",
    "# Add the country data to the scatter plot\n",
    "ecom_scatter = px.scatter(ecom_country, x='Total Sales ($)', y='Sales Volume', \n",
    "                          color='Country', width=350, height=400, custom_data=['Country'])\n",
    "ecom_scatter.update_layout({'legend':dict(orientation='h', y=-0.5,x=1, yanchor='bottom', xanchor='right'), 'margin':dict(l=20, r=20, t=25, b=0)})\n",
    "\n",
    "app = dash.Dash(__name__)\n",
    "\n",
    "app.layout = html.Div([\n",
    "  html.Img(src=logo_link, \n",
    "        style={'margin':'30px 0px 0px 0px' }),\n",
    "  html.H1('Sales breakdowns'),\n",
    "  html.Div(\n",
    "    children=[\n",
    "    html.Div(\n",
    "        children=[\n",
    "          html.H2('Sales by Country'),\n",
    "          dcc.Graph(id='scatter_fig', figure=ecom_scatter)\n",
    "        ],\n",
    "        style={'width':'350px', 'height':'500px', 'display':'inline-block', \n",
    "               'vertical-align':'top', 'border':'1px solid black', 'padding':'20px'}),\n",
    "    html.Div(\n",
    "        children=[\n",
    "          html.H2('Key Stats'),\n",
    "          html.P(id='text_output', style={'width':'500px', 'text-align':'center'}),\n",
    "          ],\n",
    "          style={'width':'700px', 'height':'650px','display':'inline-block'}),\n",
    "    ]),], \n",
    "  style={'text-align':'center', 'display':'inline-block', 'width':'100%'})\n",
    "\n",
    "# Trigger callback on hover\n",
    "@app.callback(\n",
    "    Output('text_output', 'children'),\n",
    "    Input('scatter_fig', 'hoverData'))\n",
    "\n",
    "def get_key_stats(hoverData):\n",
    "    \n",
    "    if not hoverData:\n",
    "        return 'Hover over a country to see key stats'\n",
    "\t\n",
    "    # Extract the custom data from the hoverData\n",
    "    country = hoverData['points'][0]['customdata'][0]\n",
    "    country_df = ecom_sales[ecom_sales['Country'] == country]\n",
    "    \n",
    "    top_major_cat = country_df.groupby('Major Category').agg('size').reset_index(name='Sales Volume').sort_values(by='Sales Volume', ascending=False).reset_index(drop=True).loc[0,'Major Category']\n",
    "    top_sales_month = country_df.groupby('Year-Month')['OrderValue'].agg('sum').reset_index(name='Total Sales ($)').sort_values(by='Total Sales ($)', ascending=False).reset_index(drop=True).loc[0,'Year-Month']\n",
    "\t\n",
    "    # Use the aggregated variables\n",
    "    stats_list = [\n",
    "    f'Key stats for : {country}', html.Br(),\n",
    "    f'The most popular Major Category by sales volume was: {top_major_cat}', html.Br(),\n",
    "    f'The highest sales value month was: {top_sales_month}'\n",
    "    ]\n",
    "    return stats_list\n",
    "\n",
    "if __name__ == '__main__':\n",
    "    app.run_server(debug=True)"
   ]
  },
  {
   "cell_type": "markdown",
   "id": "9bf917da",
   "metadata": {},
   "source": [
    "### Hover to update another plot"
   ]
  },
  {
   "cell_type": "raw",
   "id": "b5272a24",
   "metadata": {},
   "source": [
    "import dash\n",
    "from dash import dcc\n",
    "from dash import html\n",
    "import plotly.express as px\n",
    "import pandas as pd\n",
    "from dash.dependencies import Input, Output\n",
    "ecom_sales = pd.read_csv(csv_file)\n",
    "logo_link = 'https://assets.datacamp.com/production/repositories/5893/datasets/fdbe0accd2581a0c505dab4b29ebb66cf72a1803/e-comlogo.png'\n",
    "ecom_country = ecom_sales.groupby('Country')['OrderValue'].agg(['sum', 'count']).reset_index().rename(columns={'count':'Sales Volume', 'sum':'Total Sales ($)'})\n",
    "ecom_scatter = px.scatter(ecom_country, x='Total Sales ($)', y='Sales Volume', color='Country', width=350, height=550, custom_data=['Country'])\n",
    "ecom_scatter.update_layout({'legend':dict(orientation='h', y=-0.7,x=1, yanchor='bottom', xanchor='right')})\n",
    "\n",
    "app = dash.Dash(__name__)\n",
    "\n",
    "app.layout = html.Div([\n",
    "  html.Img(src=logo_link, \n",
    "        style={'margin':'30px 0px 0px 0px' }),\n",
    "  html.H1('Sales breakdowns'),\n",
    "  html.Div(\n",
    "    children=[\n",
    "    html.Div(\n",
    "        children=[\n",
    "          html.H3('Sales Volume vs Sales Amount by Country'),\n",
    "          dcc.Graph(id='scatter', figure=ecom_scatter),\n",
    "        ],\n",
    "        style={'width':'350px', 'height':'650px', 'display':'inline-block', \n",
    "               'vertical-align':'top', 'border':'1px solid black', 'padding':'20px'}),\n",
    "    html.Div(\n",
    "      children=[\n",
    "        # Add two plot types to the layout\n",
    "        dcc.Graph(id='major_cat'),\n",
    "        dcc.Graph(id='minor_cat'),\n",
    "      ],\n",
    "      style={'width':'700px', 'height':'650px','display':'inline-block'})\n",
    "    ]),], \n",
    "  style={'text-align':'center', 'display':'inline-block', 'width':'100%'}\n",
    "  )\n",
    "\n",
    "# Create a callback to update the minor category plot\n",
    "@app.callback(\n",
    "    Output('minor_cat', 'figure'),\n",
    "    Input('scatter', 'hoverData'))\n",
    "\n",
    "def update_min_cat_hover(hoverData):\n",
    "    hover_country = 'Australia'\n",
    "    \n",
    "    if hoverData:\n",
    "        hover_country = hoverData['points'][0]['customdata'][0]\n",
    "\n",
    "    minor_cat_df = ecom_sales[ecom_sales['Country'] == hover_country]\n",
    "    minor_cat_agg = minor_cat_df.groupby('Minor Category')['OrderValue'].agg('sum').reset_index(name='Total Sales ($)')\n",
    "    ecom_bar_minor_cat = px.bar(minor_cat_agg, x='Total Sales ($)', y='Minor Category', orientation='h', height=450, title=f'Sales by Minor Category for: {hover_country}')\n",
    "    ecom_bar_minor_cat.update_layout({'yaxis':{'dtick':1, 'categoryorder':'total ascending'}, 'title':{'x':0.5}})\n",
    "\n",
    "    return ecom_bar_minor_cat\n",
    "\n",
    "# Create a callback to update the major category plot\n",
    "@app.callback(\n",
    "    Output('major_cat', 'figure'),\n",
    "    Input('scatter', 'hoverData'))\n",
    "\n",
    "def update_major_cat_hover(hoverData):\n",
    "    hover_country = 'Australia'\n",
    "    \n",
    "    # Conditionally select the country from the hover data\n",
    "    if hoverData:\n",
    "        hover_country = hoverData['points'][0]['customdata'][0]\n",
    "\n",
    "    major_cat_df = ecom_sales[ecom_sales['Country'] == hover_country]\n",
    "    major_cat_agg = major_cat_df.groupby('Major Category')['OrderValue'].agg('sum').reset_index(name='Total Sales ($)')\n",
    "\n",
    "    ecom_bar_major_cat = px.bar(major_cat_agg, x='Total Sales ($)', \n",
    "                                y='Major Category', height=300, \n",
    "                                title=f'Sales by Major Category for: {hover_country}', color='Major Category',\n",
    "            color_discrete_map={'Clothes':'blue','Kitchen':'red', 'Garden':'green', 'Household':'yellow'})\n",
    "    ecom_bar_major_cat.update_layout({'margin':dict(l=10,r=15,t=40,b=0), 'title':{'x':0.5}})\n",
    "\n",
    "    return ecom_bar_major_cat\n",
    "\n",
    "if __name__ == '__main__':\n",
    "    app.run_server(debug=True)"
   ]
  },
  {
   "cell_type": "markdown",
   "id": "e5bfaabb",
   "metadata": {},
   "source": [
    "### Click to update another plot"
   ]
  },
  {
   "cell_type": "raw",
   "id": "49663a72",
   "metadata": {},
   "source": [
    "import dash\n",
    "from dash import dcc\n",
    "from dash import html\n",
    "import plotly.express as px\n",
    "import pandas as pd\n",
    "from dash.dependencies import Input, Output\n",
    "ecom_sales = pd.read_csv(csv_file)\n",
    "logo_link = 'https://assets.datacamp.com/production/repositories/5893/datasets/fdbe0accd2581a0c505dab4b29ebb66cf72a1803/e-comlogo.png'\n",
    "ecom_country = ecom_sales.groupby('Country')['OrderValue'].agg(['sum', 'count']).reset_index().rename(columns={'count':'Sales Volume', 'sum':'Total Sales ($)'})\n",
    "ecom_scatter = px.scatter(ecom_country, x='Total Sales ($)', y='Sales Volume', color='Country', width=350, height=550, custom_data=['Country'])\n",
    "ecom_scatter.update_layout({'legend':dict(orientation='h', y=-0.7,x=1, yanchor='bottom', xanchor='right')})\n",
    "\n",
    "app = dash.Dash(__name__)\n",
    "\n",
    "app.layout = html.Div([\n",
    "  html.Img(src=logo_link, \n",
    "        style={'margin':'30px 0px 0px 0px' }),\n",
    "  html.H1('Sales breakdowns'),\n",
    "  html.Div(\n",
    "    children=[\n",
    "    html.Div(\n",
    "        children=[\n",
    "          html.H3('Sales Volume vs Sales Amount by Country'),\n",
    "          dcc.Graph(id='scatter', figure=ecom_scatter),\n",
    "        ],\n",
    "        style={'width':'350px', 'height':'650px', 'display':'inline-block', \n",
    "               'vertical-align':'top', 'border':'1px solid black', 'padding':'20px'}),\n",
    "    html.Div(\n",
    "      children=[\n",
    "        dcc.Graph(id='major_cat'),\n",
    "        dcc.Graph(id='minor_cat'),\n",
    "      ],\n",
    "      style={'width':'700px', 'height':'650px','display':'inline-block'})\n",
    "    ]),], \n",
    "  style={'text-align':'center', 'display':'inline-block', 'width':'100%'}\n",
    "  )\n",
    "\n",
    "@app.callback(\n",
    "    Output('major_cat', 'figure'),\n",
    "    Input('scatter', 'hoverData'))\n",
    "\n",
    "def update_major_cat_hover(hoverData):\n",
    "    hover_country = 'Australia'\n",
    "    \n",
    "    if hoverData:\n",
    "        hover_country = hoverData['points'][0]['customdata'][0]\n",
    "\n",
    "    major_cat_df = ecom_sales[ecom_sales['Country'] == hover_country]\n",
    "    major_cat_agg = major_cat_df.groupby('Major Category')['OrderValue'].agg('sum').reset_index(name='Total Sales ($)')\n",
    "\n",
    "    ecom_bar_major_cat = px.bar(major_cat_agg, x='Total Sales ($)',\n",
    "                                # Ensure the Major category will be available\n",
    "                                custom_data=['Major Category'],\n",
    "                                y='Major Category', height=300, \n",
    "                                title=f'Sales by Major Category for: {hover_country}', color='Major Category',\n",
    "            color_discrete_map={'Clothes':'blue','Kitchen':'red', 'Garden':'green', 'Household':'yellow'})\n",
    "    ecom_bar_major_cat.update_layout({'margin':dict(l=10,r=15,t=40,b=0), 'title':{'x':0.5}})\n",
    "\n",
    "    return ecom_bar_major_cat\n",
    "\n",
    "# Set up a callback for click data\n",
    "@app.callback(\n",
    "    Output('minor_cat', 'figure'),\n",
    "    Input('major_cat', 'clickData'))\n",
    "\n",
    "def update_major_cat_click(clickData):\n",
    "    click_cat = 'All'\n",
    "    major_cat_df = ecom_sales.copy()\n",
    "    total_sales = major_cat_df.groupby('Country')['OrderValue'].agg('sum').reset_index(name='Total Sales ($)')\n",
    "    \n",
    "    # Extract the major category clicked on for usage\n",
    "    if clickData:\n",
    "        click_cat = clickData['points'][0]['customdata'][0]\n",
    "        \n",
    "        # Undetake a filter using the major category clicked on\n",
    "        major_cat_df = ecom_sales[ecom_sales['Major Category'] == click_cat]\n",
    "    \n",
    "    country_mj_cat_agg = major_cat_df.groupby('Country')['OrderValue'].agg('sum').reset_index(name='Total Sales ($)')\n",
    "    country_mj_cat_agg['Sales %'] = (country_mj_cat_agg['Total Sales ($)'] / total_sales['Total Sales ($)'] * 100).round(1)\n",
    "    \n",
    "    ecom_bar_country_mj_cat = px.bar(country_mj_cat_agg, x='Sales %', y='Country', \n",
    "                                orientation='h', height=450, range_x = [0,100], text='Sales %', \n",
    "                                     title=f'Global Sales % by Country for Major Category: {click_cat}')\n",
    "    ecom_bar_country_mj_cat.update_layout({'yaxis':{'dtick':1, 'categoryorder':'total ascending'}, 'title':{'x':0.5}})\n",
    "\n",
    "    return ecom_bar_country_mj_cat  \n",
    "  \n",
    "\n",
    "if __name__ == '__main__':\n",
    "    app.run_server(debug=True)"
   ]
  },
  {
   "cell_type": "markdown",
   "id": "763e4ccd",
   "metadata": {},
   "source": [
    "### Conditional dropdown options"
   ]
  },
  {
   "cell_type": "raw",
   "id": "a721ed96",
   "metadata": {},
   "source": [
    "import dash\n",
    "from dash import dcc\n",
    "from dash import html\n",
    "import plotly.express as px\n",
    "import pandas as pd\n",
    "from dash.dependencies import Input, Output\n",
    "ecom_sales = pd.read_csv(csv_file)\n",
    "major_categories = list(ecom_sales['Major Category'].unique())\n",
    "minor_categories = list(ecom_sales['Minor Category'].unique())\n",
    "logo_link = 'https://assets.datacamp.com/production/repositories/5893/datasets/fdbe0accd2581a0c505dab4b29ebb66cf72a1803/e-comlogo.png'\n",
    "ecom_country = ecom_sales.groupby('Country')['OrderValue'].agg(['sum', 'count']).reset_index().rename(columns={'count':'Sales Volume', 'sum':'Total Sales ($)'})\n",
    "\n",
    "app = dash.Dash(__name__)\n",
    "\n",
    "app.layout = html.Div([\n",
    "  html.Img(src=logo_link, \n",
    "        style={'margin':'30px 0px 0px 0px' }),\n",
    "  html.H1('Sales breakdowns'),\n",
    "  html.Div(\n",
    "    children=[\n",
    "    html.Div(\n",
    "      children=[\n",
    "      html.H2('Controls'),\n",
    "      html.Br(),\n",
    "      html.H3('Major Category Select'),\n",
    "      dcc.Dropdown(\n",
    "        id='major_cat_dd',\n",
    "        # Set up the Major Category options with the same label and value\n",
    "        options=[{'label':category, 'value':category} for category in major_categories],\n",
    "      style={'width':'200px', 'margin':'0 auto'}),\n",
    "      html.Br(),\n",
    "      html.H3('Minor Category Select'),\n",
    "      dcc.Dropdown(\n",
    "        id='minor_cat_dd',\n",
    "        style={'width':'200px', 'margin':'0 auto'})\n",
    "        ],\n",
    "        style={'width':'350px', 'height':'350px', 'display':'inline-block', \n",
    "               'vertical-align':'top', 'border':'1px solid black', 'padding':'20px'}),\n",
    "    html.Div(\n",
    "      children=[\n",
    "      dcc.Graph(id='sales_line')],\n",
    "      style={'width':'700px', 'height':'650px','display':'inline-block'})\n",
    "    ]),], \n",
    "  style={'text-align':'center', 'display':'inline-block', 'width':'100%'})\n",
    "\n",
    "\n",
    "# Create a callback from the Major Category dropdown to the Minor Category Dropdown\n",
    "@app.callback(\n",
    "    Output('minor_cat_dd', 'options'),\n",
    "    Input('major_cat_dd', 'value'))\n",
    "\n",
    "def update_minor_dd(major_cat_dd):\n",
    "  \n",
    "    major_minor = ecom_sales[['Major Category', 'Minor Category']].drop_duplicates()\n",
    "    relevant_minor_options = major_minor[major_minor['Major Category'] == major_cat_dd]['Minor Category'].values.tolist()\n",
    "    \n",
    "    # Create and return formatted relevant options with the same label and value\n",
    "    formatted_relevant_minor_options = [{'label':x, 'value':x} for x in relevant_minor_options]\n",
    "    return formatted_relevant_minor_options\n",
    "\n",
    "# Create a callback for the Minor Category dropdown to update the line plot\n",
    "@app.callback(\n",
    "    Output('sales_line', 'figure'),\n",
    "    Input('minor_cat_dd', 'value'))\n",
    "\n",
    "def update_line(minor_cat):\n",
    "    minor_cat_title = 'All'\n",
    "    ecom_line = ecom_sales.copy()\n",
    "    \n",
    "    if minor_cat:\n",
    "        minor_cat_title = minor_cat\n",
    "        ecom_line = ecom_line[ecom_line['Minor Category'] == minor_cat]\n",
    "    \n",
    "    ecom_line = ecom_line.groupby('Year-Month')['OrderValue'].agg('sum').reset_index(name='Total Sales ($)')\n",
    "    line_graph = px.line(ecom_line, x='Year-Month',  y='Total Sales ($)', \n",
    "                         title=f'Total Sales by Month for Minor Category: {minor_cat_title}')\n",
    "    \n",
    "    return line_graph\n",
    "\n",
    "\n",
    "if __name__ == '__main__':\n",
    "    app.run_server(debug=True)"
   ]
  },
  {
   "cell_type": "markdown",
   "id": "e4ab51b3",
   "metadata": {},
   "source": [
    "### Extending the chain"
   ]
  },
  {
   "cell_type": "raw",
   "id": "3ca0d3bd",
   "metadata": {},
   "source": [
    "import dash\n",
    "from dash import dcc\n",
    "from dash import html\n",
    "import plotly.express as px\n",
    "import pandas as pd\n",
    "import random\n",
    "from dash.dependencies import Input, Output\n",
    "ecom_sales = pd.read_csv(csv_file)\n",
    "major_categories = list(ecom_sales['Major Category'].unique())\n",
    "minor_categories = list(ecom_sales['Minor Category'].unique())\n",
    "logo_link = 'https://assets.datacamp.com/production/repositories/5893/datasets/fdbe0accd2581a0c505dab4b29ebb66cf72a1803/e-comlogo.png'\n",
    "ecom_country = ecom_sales.groupby('Country')['OrderValue'].agg(['sum', 'count']).reset_index().rename(columns={'count':'Sales Volume', 'sum':'Total Sales ($)'})\n",
    "\n",
    "app = dash.Dash(__name__)\n",
    "\n",
    "app.layout = html.Div([\n",
    "  html.Img(src=logo_link, \n",
    "        style={'margin':'30px 0px 0px 0px' }),\n",
    "  html.H1('Sales breakdowns'),\n",
    "  html.Div(\n",
    "    children=[\n",
    "    html.Div(\n",
    "      children=[\n",
    "      html.H2('Controls'),\n",
    "      html.Br(),\n",
    "      html.H3('Major Category Select'),\n",
    "      dcc.Dropdown(\n",
    "        id='major_cat_dd',\n",
    "        options=[{'label':category, 'value':category} for category in major_categories],\n",
    "      style={'width':'200px', 'margin':'0 auto'}),\n",
    "      html.Br(),\n",
    "      html.H3('Minor Category Select'),\n",
    "      dcc.Dropdown(\n",
    "        id='minor_cat_dd',\n",
    "        style={'width':'200px', 'margin':'0 auto'})\n",
    "        ],\n",
    "        style={'width':'350px', 'height':'350px', 'display':'inline-block', \n",
    "               'vertical-align':'top', 'border':'1px solid black', 'padding':'20px'}),\n",
    "    html.Div(\n",
    "      children=[\n",
    "      dcc.Graph(id='sales_line'),\n",
    "      html.H3(id='chosen_major_cat_title')\n",
    "      ],\n",
    "      style={'width':'700px', 'height':'650px','display':'inline-block'})\n",
    "    ]),], \n",
    "  style={'text-align':'center', 'display':'inline-block', 'width':'100%'})\n",
    "\n",
    "# One callback to set minor values & HTML output\n",
    "@app.callback(\n",
    "   Output('minor_cat_dd', 'options'),\n",
    "   Output('chosen_major_cat_title', 'children'),\n",
    "   Input('major_cat_dd', 'value'))\n",
    "\n",
    "def update_minor_dd(major_cat_dd):\n",
    "  \n",
    "    major_minor = ecom_sales[['Major Category', 'Minor Category']].drop_duplicates()\n",
    "    relevant_minor_options = major_minor[major_minor['Major Category'] == major_cat_dd]['Minor Category'].values.tolist()\n",
    "    minor_options = [{'label':x, 'value':x} for x in relevant_minor_options]\n",
    "    \n",
    "    if not major_cat_dd:\n",
    "        major_cat_dd = 'None Selected'\n",
    "    # Creating string for title\n",
    "    major_cat_title = f'This is in the Major Category of : {major_cat_dd}'\n",
    "    \n",
    "    # Return the options and title\n",
    "    return minor_options, major_cat_title\n",
    "\n",
    "# Create a callback to set a default minor category value\n",
    "@app.callback(\n",
    "    Output('minor_cat_dd', 'value'),\n",
    "    Input('minor_cat_dd', 'options'))\n",
    "\n",
    "def select_minor_cat(options):\n",
    "    chosen_val = 'None'\n",
    "    if options:\n",
    "        vals = [x['value'] for x in options] # can't understand\n",
    "        chosen_val = random.choice(vals) # can't understand\n",
    "    return chosen_val\n",
    "  \n",
    "@app.callback(\n",
    "    Output('sales_line', 'figure'),\n",
    "    Input('minor_cat_dd', 'value'))\n",
    "\n",
    "def update_line(minor_cat):\n",
    "    minor_cat_title = 'All'\n",
    "    ecom_line = ecom_sales.copy()\n",
    "    \n",
    "    if minor_cat:\n",
    "        minor_cat_title = minor_cat\n",
    "        ecom_line = ecom_line[ecom_line['Minor Category'] == minor_cat]\n",
    "    \n",
    "    ecom_line = ecom_line.groupby('Year-Month')['OrderValue'].agg('sum').reset_index(name='Total Sales ($)')\n",
    "    line_graph = px.line(ecom_line, x='Year-Month',  y='Total Sales ($)', \n",
    "                         title=f'Total Sales by Month for Minor Category: {minor_cat_title}')\n",
    "    \n",
    "    return line_graph\n",
    "\n",
    "\n",
    "if __name__ == '__main__':\n",
    "    app.run_server(debug=True)"
   ]
  },
  {
   "cell_type": "markdown",
   "id": "355aebcd",
   "metadata": {},
   "source": [
    "### Interactive key stats table"
   ]
  },
  {
   "cell_type": "raw",
   "id": "f96f5488",
   "metadata": {},
   "source": [
    "import dash\n",
    "from dash import dcc\n",
    "from dash import html\n",
    "import plotly.express as px\n",
    "import dash_table\n",
    "from dash_table import DataTable, FormatTemplate\n",
    "import pandas as pd\n",
    "from dash.dependencies import Input, Output\n",
    "ecom_sales = pd.read_csv(csv_file)\n",
    "logo_link = 'https://assets.datacamp.com/production/repositories/5893/datasets/fdbe0accd2581a0c505dab4b29ebb66cf72a1803/e-comlogo.png'\n",
    "key_stats_tb = ecom_sales.groupby(['Country','Major Category', 'Minor Category'])['OrderValue'].agg(['sum', 'count', 'mean']).reset_index().rename(columns={'count':'Sales Volume', 'sum':'Total Sales ($)', 'mean':'Average Order Value ($)'})\n",
    "\n",
    "# Set up money format for relevant columns\n",
    "money_format = FormatTemplate.money(2)\n",
    "money_cols = ['Total Sales ($)', 'Average Order Value ($)']\n",
    "data_cols = [x for x in key_stats_tb.columns if x not in money_cols]\n",
    "d_columns = [{'name': x, 'id': x} for x in data_cols]\n",
    "d_columns +=[{'name': x, 'id': x, \n",
    "              'type':'numeric', 'format': money_format\n",
    "  \t\t\t} for x in money_cols]\n",
    "\n",
    "# Create a Data Table\n",
    "d_table = DataTable(\n",
    "            columns=d_columns,\n",
    "            data=key_stats_tb.to_dict('records'),\n",
    "            cell_selectable=False,\n",
    "            # Add sorting\n",
    "            sort_action='native',\n",
    "            # Add filtering\n",
    "            filter_action='native'\n",
    "            )\n",
    "\n",
    "app = dash.Dash(__name__)\n",
    "\n",
    "app.layout = html.Div([\n",
    "  html.Img(src=logo_link, \n",
    "        style={'margin':'30px 0px 0px 0px' }),\n",
    "  html.H1('Sales Aggregations'),\n",
    "  html.Div(\n",
    "    children=[\n",
    "      html.H2('Key Aggregations'),\n",
    "      d_table\n",
    "      ],\n",
    "      style={'width':'850px', 'height':'750px', 'margin':'0 auto'}\n",
    "    ),\n",
    "    ], \n",
    "  style={'text-align':'center', 'display':'inline-block', 'width':'100%'}\n",
    "  )\n",
    "\n",
    "if __name__ == '__main__':\n",
    "    app.run_server(debug=True)"
   ]
  },
  {
   "cell_type": "markdown",
   "id": "7619c80d",
   "metadata": {},
   "source": [
    "### Paginating a key stats table"
   ]
  },
  {
   "cell_type": "raw",
   "id": "a1f38902",
   "metadata": {},
   "source": [
    "import dash\n",
    "from dash import dcc\n",
    "from dash import html\n",
    "import plotly.express as px\n",
    "import dash_table\n",
    "from dash_table import DataTable, FormatTemplate\n",
    "import pandas as pd\n",
    "from dash.dependencies import Input, Output\n",
    "ecom_sales = pd.read_csv(csv_file)\n",
    "logo_link = 'https://assets.datacamp.com/production/repositories/5893/datasets/fdbe0accd2581a0c505dab4b29ebb66cf72a1803/e-comlogo.png'\n",
    "key_stats_tb = ecom_sales.groupby(['Country','Major Category', 'Minor Category'])['OrderValue'].agg(['sum', 'count', 'mean']).reset_index().rename(columns={'count':'Sales Volume', 'sum':'Total Sales ($)', 'mean':'Average Order Value ($)'})\n",
    "\n",
    "money_format = FormatTemplate.money(2)\n",
    "money_cols = ['Total Sales ($)', 'Average Order Value ($)']\n",
    "data_cols = [x for x in key_stats_tb.columns if x not in money_cols]\n",
    "d_columns = [{'name': x, 'id': x} for x in data_cols]\n",
    "d_columns +=[{'name': x, 'id': x, \n",
    "              'type':'numeric', 'format': money_format\n",
    "  \t\t\t} for x in money_cols]\n",
    "\n",
    "# Create a Data Table\n",
    "d_table = DataTable(\n",
    "            columns=d_columns,\n",
    "            data=key_stats_tb.to_dict('records'),\n",
    "            cell_selectable=False,\n",
    "            sort_action='native',\n",
    "            filter_action='native',\n",
    "            # Add pagination\n",
    "            page_action='native',\n",
    "            # Start on the first page\n",
    "            page_current=0,\n",
    "            # Render 7 items per page\n",
    "            page_size=7,\n",
    "            )\n",
    "\n",
    "app = dash.Dash(__name__)\n",
    "\n",
    "app.layout = html.Div([\n",
    "  html.Img(src=logo_link, \n",
    "        style={'margin':'30px 0px 0px 0px' }),\n",
    "  html.H1('Sales Aggregations'),\n",
    "  html.Div(\n",
    "    children=[\n",
    "      html.H2('Key Aggregations'),\n",
    "      d_table\n",
    "      ],\n",
    "      style={'width':'850px', 'height':'750px', 'margin':'0 auto'}\n",
    "    ),\n",
    "    ], \n",
    "  style={'text-align':'center', 'display':'inline-block', 'width':'100%'}\n",
    "  )\n",
    "\n",
    "if __name__ == '__main__':\n",
    "    app.run_server(debug=True)"
   ]
  },
  {
   "cell_type": "markdown",
   "id": "86cbd465",
   "metadata": {},
   "source": [
    "### Enhancing the sales dashboard"
   ]
  },
  {
   "cell_type": "raw",
   "id": "51c22a4a",
   "metadata": {},
   "source": [
    "import dash\n",
    "from dash import dcc\n",
    "from dash import html\n",
    "import plotly.express as px\n",
    "import dash_table\n",
    "from dash_table import DataTable, FormatTemplate\n",
    "import pandas as pd\n",
    "from dash.dependencies import Input, Output\n",
    "ecom_sales = pd.read_csv(csv_file)\n",
    "logo_link = 'https://assets.datacamp.com/production/repositories/5893/datasets/fdbe0accd2581a0c505dab4b29ebb66cf72a1803/e-comlogo.png'\n",
    "major_categories = list(ecom_sales['Major Category'].unique())\n",
    "large_tb = ecom_sales.groupby(['Major Category', 'Minor Category'])['OrderValue'].agg(['sum', 'count', 'mean']).reset_index().rename(columns={'count':'Sales Volume', 'sum':'Total Sales ($)', 'mean':'Average Order Value ($)'})\n",
    "ecom_country = ecom_sales.groupby('Country')['OrderValue'].agg('sum').reset_index(name='Total Sales ($)')\n",
    "bar_fig_country = px.bar(ecom_country, x='Total Sales ($)', y='Country', width=500, height=450, title='Total Sales by Country (Hover to filter the Minor Category bar chart!)', custom_data=['Country'], color='Country', color_discrete_map={'United Kingdom':'lightblue', 'Germany':'orange', 'France':'darkblue', 'Australia':'green', 'Hong Kong':'red'})\n",
    "\n",
    "money_format = FormatTemplate.money(2)\n",
    "money_cols = ['Total Sales ($)', 'Average Order Value ($)']\n",
    "d_columns = [{'name':x, 'id':x} for x in large_tb.columns if x not in money_cols]\n",
    "d_columns += [\n",
    "    {'name':'Total Sales ($)', 'id':'Total Sales ($)', \n",
    "    'type':'numeric', \n",
    "    'format':money_format\n",
    "    },\n",
    "    {'name':'Average Order Value ($)', 'id':'Average Order Value ($)', \n",
    "    'type':'numeric', \n",
    "    'format':money_format}]\n",
    "\n",
    "d_table = DataTable(\n",
    "  \t\t\t# Set up the columns and data\n",
    "            columns=d_columns,\n",
    "            data=large_tb.to_dict('records'),\n",
    "            cell_selectable=False,\n",
    "  \t\t\t# Set up sort, filter and pagination\n",
    "            sort_action='native',\n",
    "            filter_action='native',\n",
    "            page_action='native',\n",
    "            page_current= 0,\n",
    "            page_size= 7,\n",
    "            )\n",
    "\n",
    "app = dash.Dash(__name__)\n",
    "\n",
    "app.layout = html.Div([\n",
    "  html.Img(src=logo_link, \n",
    "        style={'margin':'30px 0px 0px 0px' }),\n",
    "  html.H1('Sales breakdowns'),\n",
    "  html.Div(\n",
    "    children=[\n",
    "    html.Div(\n",
    "        children=[\n",
    "        html.H2('Controls'),\n",
    "        html.Br(),\n",
    "        html.H3('Major Category Select'),\n",
    "        dcc.Dropdown(id='major_cat_dd',\n",
    "        options=[{'label':category, 'value':category} for category in major_categories],\n",
    "            style={'width':'200px', 'margin':'0 auto'}),\n",
    "        html.Br(),\n",
    "        html.H3('Minor Category Select'),\n",
    "        dcc.Dropdown(id='minor_cat_dd',\n",
    "            style={'width':'200px', 'margin':'0 auto'})\n",
    "        ],\n",
    "        style={'width':'350px', 'height':'360px', 'display':'inline-block', 'vertical-align':'top', 'border':'1px solid black', 'padding':'20px'}),\n",
    "    html.Div(children=[\n",
    "            html.H3(id='chosen_major_cat_title'),\n",
    "            dcc.Graph(id='sales_line')\n",
    "            ],\n",
    "             style={'width':'700px', 'height':'380px','display':'inline-block', 'margin-bottom':'5px'}\n",
    "             )\n",
    "    ]),\n",
    "    html.Div(\n",
    "      \t\t# Insert the Data Table\n",
    "            d_table,\n",
    "        style={'width':'1000px', 'height':'350px', 'margin':'10px auto', 'padding-right':'30px'}),\n",
    "  html.Div(children=[\n",
    "      html.Div(dcc.Graph(id='major_cat', figure=bar_fig_country), style={'display':'inline-block'}),\n",
    "      html.Div(dcc.Graph(id='minor_cat'), style={'display':'inline-block'})\n",
    "            ],\n",
    "             style={'width':'1000px', 'height':'650px','display':'inline-block'}\n",
    "             ),\n",
    "  ],style={'text-align':'center', 'display':'inline-block', 'width':'100%'}\n",
    "  )\n",
    "\n",
    "# Set up a callback with multiple outputs\n",
    "@app.callback(\n",
    "   Output('minor_cat_dd', 'options'),\n",
    "   Output('chosen_major_cat_title', 'children'),\n",
    "   Input('major_cat_dd', 'value'))\n",
    "\n",
    "def update_dd(major_cat_dd):\n",
    "    major_minor = ecom_sales[['Major Category', 'Minor Category']].drop_duplicates()\n",
    "    relevant_minor = major_minor[major_minor['Major Category'] == major_cat_dd]['Minor Category'].values.tolist()\n",
    "    minor_options = [dict(label=x, value=x) for x in relevant_minor]\n",
    "\n",
    "    if not major_cat_dd:\n",
    "        major_cat_dd = 'ALL'\n",
    "    \n",
    "    major_cat_title = f'This is in the Major Category of : {major_cat_dd}'\n",
    "\n",
    "    return minor_options, major_cat_title\n",
    "\n",
    "@app.callback(\n",
    "    Output('sales_line', 'figure'),\n",
    "    Input('minor_cat_dd', 'value'))\n",
    "\n",
    "def update_line(minor_cat):\n",
    "    minor_cat_title = 'All'\n",
    "    ecom_line = ecom_sales.copy()\n",
    "    if minor_cat:\n",
    "        minor_cat_title = minor_cat\n",
    "        ecom_line = ecom_line[ecom_line['Minor Category'] == minor_cat]\n",
    "    ecom_line = ecom_line.groupby('Year-Month')['OrderValue'].agg('sum').reset_index(name='Total Sales ($)')\n",
    "    line_graph = px.line(ecom_line, x='Year-Month',  y='Total Sales ($)', title=f'Total Sales by Month for Minor Category: {minor_cat_title}', height=350)\n",
    "    \n",
    "    return line_graph\n",
    "\n",
    "@app.callback(\n",
    "    Output('minor_cat', 'figure'),\n",
    "    Input('major_cat', 'hoverData'))\n",
    "\n",
    "def update_min_cat_hover(hoverData):\n",
    "    hover_country = 'Australia'\n",
    "    \n",
    "    if hoverData:\n",
    "        hover_country = hoverData['points'][0]['customdata'][0]\n",
    "\n",
    "    minor_cat_df = ecom_sales[ecom_sales['Country'] == hover_country]\n",
    "    minor_cat_agg = minor_cat_df.groupby('Minor Category')['OrderValue'].agg('sum').reset_index(name='Total Sales ($)')\n",
    "    ecom_bar_minor_cat = px.bar(minor_cat_agg, x='Total Sales ($)', y='Minor Category', orientation='h', height=450, width=480,title=f'Sales by Minor Category for: {hover_country}')\n",
    "    ecom_bar_minor_cat.update_layout({'yaxis':{'dtick':1, 'categoryorder':'total ascending'}, 'title':{'x':0.5}})\n",
    "\n",
    "    return ecom_bar_minor_cat\n",
    "\n",
    "\n",
    "if __name__ == '__main__':\n",
    "    app.run_server(debug=True)"
   ]
  },
  {
   "cell_type": "markdown",
   "id": "02979a42",
   "metadata": {},
   "source": [
    "### Styling a key stats table"
   ]
  },
  {
   "cell_type": "raw",
   "id": "b5860bf4",
   "metadata": {},
   "source": [
    "import dash\n",
    "from dash import dcc\n",
    "from dash import html\n",
    "import plotly.express as px\n",
    "import dash_table\n",
    "from dash_table import DataTable, FormatTemplate\n",
    "import pandas as pd\n",
    "from dash.dependencies import Input, Output\n",
    "ecom_sales = pd.read_csv(csv_file)\n",
    "logo_link = 'https://assets.datacamp.com/production/repositories/5893/datasets/fdbe0accd2581a0c505dab4b29ebb66cf72a1803/e-comlogo.png'\n",
    "key_stats_tb = ecom_sales.groupby(['Country','Major Category', 'Minor Category'])['OrderValue'].agg(['sum', 'count', 'mean']).reset_index().rename(columns={'count':'Sales Volume', 'sum':'Total Sales ($)', 'mean':'Average Order Value ($)'})\n",
    "\n",
    "money_format = FormatTemplate.money(2)\n",
    "money_cols = ['Total Sales ($)', 'Average Order Value ($)']\n",
    "data_cols = [x for x in key_stats_tb.columns if x not in money_cols]\n",
    "d_columns = [{'name': x, 'id': x} for x in data_cols]\n",
    "d_columns +=[{'name': x, 'id': x, \n",
    "              'type':'numeric', 'format': money_format\n",
    "  \t\t\t} for x in money_cols]\n",
    "\n",
    "d_table = DataTable(\n",
    "            columns=d_columns,\n",
    "            data=key_stats_tb.to_dict('records'),\n",
    "            cell_selectable=False,\n",
    "            sort_action='native',\n",
    "            filter_action='native',\n",
    "            page_action='native',\n",
    "            page_current=0,\n",
    "            page_size=10,\n",
    "  \t\t\t# Align all cell contents left\n",
    "  \t\t\tstyle_cell=({'textAlign':'left'}),\n",
    "  \t\t\t# Style the background of money columns\n",
    "  \t\t\tstyle_cell_conditional=[\n",
    "            {\n",
    "              'if': \n",
    "\t\t\t{'column_id':'Total Sales ($)'},\n",
    "              'background-color':'rgb(252, 252, 184)','textAlign':'center'},\n",
    "              {\n",
    "              'if': \n",
    "\t\t\t{'column_id':'Average Order Value ($)'},\n",
    "              'background-color':'rgb(252, 252, 184)','textAlign':'center'}\n",
    "            ],\n",
    " \t\t\t# Style all headers\n",
    "  \t\t\tstyle_header={'background-color':'rgb(168, 255, 245)'},\n",
    "  \t\t\t# Style money header columns\n",
    "  \t\t\tstyle_header_conditional=[\n",
    "            {\n",
    "              'if': \n",
    "\t\t\t{'column_id':'Total Sales ($)'},\n",
    "              'background-color':'rgb(252, 252, 3)'},\n",
    "              {\n",
    "              'if': \n",
    "\t\t\t{'column_id':'Average Order Value ($)'},\n",
    "              'background-color':'rgb(252, 252, 3)'}\n",
    "            ],\n",
    "  \t\t\t\n",
    "            )\n",
    "\n",
    "app = dash.Dash(__name__)\n",
    "\n",
    "app.layout = html.Div([\n",
    "  html.Img(src=logo_link, \n",
    "        style={'margin':'30px 0px 0px 0px' }),\n",
    "  html.H1('Sales Aggregations'),\n",
    "  html.Div(\n",
    "    children=[\n",
    "      html.H2('Key Aggregations'),\n",
    "      d_table\n",
    "      ],\n",
    "      style={'width':'850px', 'height':'750px', 'margin':'0 auto'}\n",
    "    ),\n",
    "    ], \n",
    "  style={'text-align':'center', 'display':'inline-block', 'width':'100%'}\n",
    "  )\n",
    "\n",
    "if __name__ == '__main__':\n",
    "    app.run_server(debug=True)"
   ]
  },
  {
   "cell_type": "markdown",
   "id": "f47cd917",
   "metadata": {},
   "source": [
    "### Interactive sales dashboard tables"
   ]
  },
  {
   "cell_type": "raw",
   "id": "14cc1950",
   "metadata": {},
   "source": [
    "import dash\n",
    "from dash import dcc\n",
    "from dash import html\n",
    "import plotly.express as px\n",
    "import dash_table\n",
    "from dash_table import DataTable, FormatTemplate\n",
    "import pandas as pd\n",
    "from dash.dependencies import Input, Output\n",
    "ecom_sales = pd.read_csv(csv_file)\n",
    "logo_link = 'https://assets.datacamp.com/production/repositories/5893/datasets/fdbe0accd2581a0c505dab4b29ebb66cf72a1803/e-comlogo.png'\n",
    "major_categories = list(ecom_sales['Major Category'].unique())\n",
    "large_tb = ecom_sales.groupby(['Country'])['OrderValue'].agg(['sum', 'count', 'mean', 'median']).reset_index().rename(columns={'count':'Sales Volume', 'sum':'Total Sales ($)', 'mean':'Average Order Value ($)', 'median':'Median Order Value ($)'})\n",
    "ecom_country = ecom_sales.groupby('Country')['OrderValue'].agg('sum').reset_index(name='Total Sales ($)')\n",
    "bar_fig_country = px.bar(ecom_country, x='Total Sales ($)', y='Country', width=500, height=450, title='Total Sales by Country (Hover to filter the Minor Category bar chart!)', custom_data=['Country'], color='Country', color_discrete_map={'United Kingdom':'lightblue', 'Germany':'orange', 'France':'darkblue', 'Australia':'green', 'Hong Kong':'red'})\n",
    "\n",
    "money_format = FormatTemplate.money(2)\n",
    "money_cols = ['Total Sales ($)', 'Average Order Value ($)', 'Median Order Value ($)']\n",
    "d_columns = [{'name':x, 'id':x} for x in large_tb.columns if x not in money_cols]\n",
    "d_columns += [\n",
    "    {'name':'Total Sales ($)', 'id':'Total Sales ($)', \n",
    "    'type':'numeric', \n",
    "    'format':money_format\n",
    "     # Allow columns to be selected\n",
    "    , 'selectable':True\n",
    "    },\n",
    "    {'name':'Average Order Value ($)', 'id':'Average Order Value ($)', \n",
    "    'type':'numeric', \n",
    "    'format':money_format\n",
    "     # Allow columns to be selected\n",
    "    , 'selectable':True\n",
    "    },\n",
    "    {'name':'Median Order Value ($)', 'id':'Median Order Value ($)', \n",
    "    'type':'numeric', \n",
    "    'format':money_format\n",
    "     # Allow columns to be selected\n",
    "    , 'selectable':True\n",
    "    }]\n",
    "\n",
    "\n",
    "d_table = DataTable(\n",
    "  \t\t\tid='my_dt',\n",
    "            columns=d_columns,\n",
    "            data=large_tb.to_dict('records'),\n",
    "            cell_selectable=False,\n",
    "            sort_action='native',\n",
    "  \t\t\t# Make single columns selectable\n",
    "            column_selectable='single'\n",
    "            )\n",
    "\n",
    "app = dash.Dash(__name__)\n",
    "\n",
    "app.layout = html.Div([\n",
    "  html.Img(src=logo_link, \n",
    "        style={'margin':'30px 0px 0px 0px' }),\n",
    "  html.H1('Sales breakdowns'),\n",
    "  html.Div(\n",
    "    children=[\n",
    "    html.Div(\n",
    "        children=[\n",
    "        html.H2('Controls'),\n",
    "        html.Br(),\n",
    "        html.H3('Major Category Select'),\n",
    "        dcc.Dropdown(id='major_cat_dd',\n",
    "        options=[{'label':category, 'value':category} for category in major_categories],\n",
    "            style={'width':'200px', 'margin':'0 auto'}),\n",
    "        html.Br(),\n",
    "        html.H3('Minor Category Select'),\n",
    "        dcc.Dropdown(id='minor_cat_dd',\n",
    "            style={'width':'200px', 'margin':'0 auto'})\n",
    "        ],\n",
    "        style={'width':'350px', 'height':'360px', 'display':'inline-block', 'vertical-align':'top', 'border':'1px solid black', 'padding':'20px'}),\n",
    "    html.Div(children=[\n",
    "            html.H3(id='chosen_major_cat_title'),\n",
    "            dcc.Graph(id='sales_line')\n",
    "            ],\n",
    "             style={'width':'700px', 'height':'380px','display':'inline-block', 'margin-bottom':'5px'}\n",
    "             )\n",
    "    ]),\n",
    "    html.Div(\n",
    "            d_table\n",
    "        , style={'width':'1000px', 'height':'200px', 'margin':'10px auto', 'padding-right':'30px'}),\n",
    "  html.Div(children=[\n",
    "      dcc.Graph(id='scatter_compare'),\n",
    "      html.Div(dcc.Graph(id='major_cat', figure=bar_fig_country), style={'display':'inline-block'}),\n",
    "      html.Div(dcc.Graph(id='minor_cat'), style={'display':'inline-block'})\n",
    "            ],\n",
    "             style={'width':'1000px', 'height':'650px','display':'inline-block'}\n",
    "             ),\n",
    "  ],style={'text-align':'center', 'display':'inline-block', 'width':'100%'}\n",
    "  )\n",
    "\n",
    "# Create a callback triggered by selecting a column\n",
    "@app.callback(\n",
    "    Output('scatter_compare', 'figure'),\n",
    "    Input('my_dt', 'selected_columns'))\n",
    "\n",
    "def table_country(selected_columns):\n",
    "    comparison_col = 'Total Sales ($)'\n",
    "\t\n",
    "    # Extract comparison col using its index\n",
    "    if selected_columns:\n",
    "        comparison_col = selected_columns[0]\n",
    "\n",
    "    scatter_fig = px.scatter(\n",
    "        data_frame=large_tb,\n",
    "        x='Sales Volume',\n",
    "      \t# Use comparison col in figure\n",
    "        y=comparison_col,\n",
    "        color='Country',\n",
    "        title=f'Sales Volume vs {comparison_col} by country'\n",
    "    )\n",
    "\n",
    "    return scatter_fig\n",
    "\n",
    "@app.callback(\n",
    "   Output('minor_cat_dd', 'options'),\n",
    "   Output('chosen_major_cat_title', 'children'),\n",
    "   Input('major_cat_dd', 'value'))\n",
    "\n",
    "def update_dd(major_cat_dd):\n",
    "    major_minor = ecom_sales[['Major Category', 'Minor Category']].drop_duplicates()\n",
    "    relevant_minor = major_minor[major_minor['Major Category'] == major_cat_dd]['Minor Category'].values.tolist()\n",
    "    minor_options = [dict(label=x, value=x) for x in relevant_minor]\n",
    "\n",
    "    if not major_cat_dd:\n",
    "        major_cat_dd = 'ALL'\n",
    "    \n",
    "    major_cat_title = f'This is in the Major Category of : {major_cat_dd}'\n",
    "\n",
    "    return minor_options, major_cat_title\n",
    "\n",
    "@app.callback(\n",
    "    Output('sales_line', 'figure'),\n",
    "    Input('minor_cat_dd', 'value'))\n",
    "\n",
    "def update_line(minor_cat):\n",
    "    minor_cat_title = 'All'\n",
    "    ecom_line = ecom_sales.copy()\n",
    "    if minor_cat:\n",
    "        minor_cat_title = minor_cat\n",
    "        ecom_line = ecom_line[ecom_line['Minor Category'] == minor_cat]\n",
    "    ecom_line = ecom_line.groupby('Year-Month')['OrderValue'].agg('sum').reset_index(name='Total Sales ($)')\n",
    "    line_graph = px.line(ecom_line, x='Year-Month',  y='Total Sales ($)', title=f'Total Sales by Month for Minor Category: {minor_cat_title}', height=350)\n",
    "    \n",
    "    return line_graph\n",
    "\n",
    "@app.callback(\n",
    "    Output('minor_cat', 'figure'),\n",
    "    Input('major_cat', 'hoverData'))\n",
    "\n",
    "def update_min_cat_hover(hoverData):\n",
    "    hover_country = 'Australia'\n",
    "    \n",
    "    if hoverData:\n",
    "        hover_country = hoverData['points'][0]['customdata'][0]\n",
    "\n",
    "    minor_cat_df = ecom_sales[ecom_sales['Country'] == hover_country]\n",
    "    minor_cat_agg = minor_cat_df.groupby('Minor Category')['OrderValue'].agg('sum').reset_index(name='Total Sales ($)')\n",
    "    ecom_bar_minor_cat = px.bar(minor_cat_agg, x='Total Sales ($)', y='Minor Category', orientation='h', height=450, width=480,title=f'Sales by Minor Category for: {hover_country}')\n",
    "    ecom_bar_minor_cat.update_layout({'yaxis':{'dtick':1, 'categoryorder':'total ascending'}, 'title':{'x':0.5}})\n",
    "\n",
    "    return ecom_bar_minor_cat\n",
    "\n",
    "\n",
    "if __name__ == '__main__':\n",
    "    app.run_server(debug=True)"
   ]
  }
 ],
 "metadata": {
  "kernelspec": {
   "display_name": "datascience_env",
   "language": "python",
   "name": "datascience_env"
  },
  "language_info": {
   "codemirror_mode": {
    "name": "ipython",
    "version": 3
   },
   "file_extension": ".py",
   "mimetype": "text/x-python",
   "name": "python",
   "nbconvert_exporter": "python",
   "pygments_lexer": "ipython3",
   "version": "3.8.12"
  }
 },
 "nbformat": 4,
 "nbformat_minor": 5
}
